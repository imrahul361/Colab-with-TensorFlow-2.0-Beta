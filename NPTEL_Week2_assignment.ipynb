{
  "nbformat": 4,
  "nbformat_minor": 0,
  "metadata": {
    "colab": {
      "name": "NPTEL_Week2_assignment.ipynb",
      "version": "0.3.2",
      "provenance": [],
      "include_colab_link": true
    },
    "kernelspec": {
      "name": "python3",
      "display_name": "Python 3"
    }
  },
  "cells": [
    {
      "cell_type": "markdown",
      "metadata": {
        "id": "view-in-github",
        "colab_type": "text"
      },
      "source": [
        "<a href=\"https://colab.research.google.com/github/imrahul361/Colab-with-TensorFlow-2.0-Beta/blob/master/NPTEL_Week2_assignment.ipynb\" target=\"_parent\"><img src=\"https://colab.research.google.com/assets/colab-badge.svg\" alt=\"Open In Colab\"/></a>"
      ]
    },
    {
      "cell_type": "code",
      "metadata": {
        "id": "2fvSTHnUeSMe",
        "colab_type": "code",
        "outputId": "478f54c0-a3e7-46d5-9c0a-2a62c4470ea2",
        "colab": {
          "base_uri": "https://localhost:8080/",
          "height": 238
        }
      },
      "source": [
        "from sklearn import metrics\n",
        "C=\"A\"\n",
        "F=\"B\"\n",
        "H=\"C\"\n",
        "\n",
        "# True values\n",
        "y_true = [C,C,F,F,F,F,F,H,H,H]\n",
        "# Predicted values\n",
        "y_pred = [C,F,F,F,H,H,H,H,H,H]\n",
        "\n",
        "# Print the confusion matrix\n",
        "print(metrics.confusion_matrix(y_true, y_pred))\n",
        "\n",
        "# Print the precision and recall, among other metrics\n",
        "print(metrics.classification_report(y_true, y_pred, digits=3))\n"
      ],
      "execution_count": 0,
      "outputs": [
        {
          "output_type": "stream",
          "text": [
            "[[1 1 0]\n",
            " [0 2 3]\n",
            " [0 0 3]]\n",
            "              precision    recall  f1-score   support\n",
            "\n",
            "           A      1.000     0.500     0.667         2\n",
            "           B      0.667     0.400     0.500         5\n",
            "           C      0.500     1.000     0.667         3\n",
            "\n",
            "    accuracy                          0.600        10\n",
            "   macro avg      0.722     0.633     0.611        10\n",
            "weighted avg      0.683     0.600     0.583        10\n",
            "\n"
          ],
          "name": "stdout"
        }
      ]
    },
    {
      "cell_type": "code",
      "metadata": {
        "id": "a-dxokCdfxtP",
        "colab_type": "code",
        "colab": {
          "base_uri": "https://localhost:8080/",
          "height": 34
        },
        "outputId": "dba44554-b374-4495-8fed-cacc0a11dc2a"
      },
      "source": [
        "import numpy as np\n",
        "r =  np.random.rand()\n",
        "beta = 1 - 10**(-r+1)\n",
        "print(beta)"
      ],
      "execution_count": 1,
      "outputs": [
        {
          "output_type": "stream",
          "text": [
            "-4.631828490152401\n"
          ],
          "name": "stdout"
        }
      ]
    },
    {
      "cell_type": "code",
      "metadata": {
        "id": "QDvEWZcgeo34",
        "colab_type": "code",
        "colab": {}
      },
      "source": [
        ""
      ],
      "execution_count": 0,
      "outputs": []
    }
  ]
}