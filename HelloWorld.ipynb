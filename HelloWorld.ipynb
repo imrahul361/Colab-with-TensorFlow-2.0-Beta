{
  "nbformat": 4,
  "nbformat_minor": 0,
  "metadata": {
    "colab": {
      "name": "HelloWorld.ipynb",
      "version": "0.3.2",
      "provenance": []
    },
    "kernelspec": {
      "name": "python3",
      "display_name": "Python 3"
    }
  },
  "cells": [
    {
      "cell_type": "markdown",
      "metadata": {
        "id": "K7Txs6YVb9bG",
        "colab_type": "text"
      },
      "source": [
        "This is my **first colab**. \n",
        "\n",
        "Here we demonstrate:\n",
        "1.   How to print using Python print statement\n",
        "2.   Perform basic mathematical operations\n",
        "\n"
      ]
    },
    {
      "cell_type": "code",
      "metadata": {
        "id": "BvZuGTkTbXBZ",
        "colab_type": "code",
        "outputId": "c296f9c8-81c6-4edc-b573-e9fcc54dce87",
        "colab": {
          "base_uri": "https://localhost:8080/",
          "height": 34
        }
      },
      "source": [
        "print (\"Hello World!\")"
      ],
      "execution_count": 0,
      "outputs": [
        {
          "output_type": "stream",
          "text": [
            "Hello World!\n"
          ],
          "name": "stdout"
        }
      ]
    },
    {
      "cell_type": "markdown",
      "metadata": {
        "id": "TUUrgZvQcaQx",
        "colab_type": "text"
      },
      "source": [
        "Perform addition of two numbers."
      ]
    },
    {
      "cell_type": "code",
      "metadata": {
        "id": "TlytVHShcZrI",
        "colab_type": "code",
        "outputId": "62446ec5-8a03-4da7-dbbb-79b664646fa6",
        "colab": {
          "base_uri": "https://localhost:8080/",
          "height": 34
        }
      },
      "source": [
        "a = 3\n",
        "b = 2\n",
        "y = a + b\n",
        "print (y)"
      ],
      "execution_count": 0,
      "outputs": [
        {
          "output_type": "stream",
          "text": [
            "5\n"
          ],
          "name": "stdout"
        }
      ]
    },
    {
      "cell_type": "markdown",
      "metadata": {
        "id": "HRxjggxKcmcO",
        "colab_type": "text"
      },
      "source": [
        "Initialize the variables."
      ]
    },
    {
      "cell_type": "code",
      "metadata": {
        "id": "7RcEkP0vco0K",
        "colab_type": "code",
        "colab": {}
      },
      "source": [
        "a = 10\n",
        "b = 20"
      ],
      "execution_count": 0,
      "outputs": []
    },
    {
      "cell_type": "markdown",
      "metadata": {
        "id": "OnWx0pYncrhe",
        "colab_type": "text"
      },
      "source": [
        "Add $a$ and $b$ to get $a+b$."
      ]
    },
    {
      "cell_type": "code",
      "metadata": {
        "id": "5RgKcmxycyjX",
        "colab_type": "code",
        "colab": {}
      },
      "source": [
        "y = a + b"
      ],
      "execution_count": 0,
      "outputs": []
    },
    {
      "cell_type": "markdown",
      "metadata": {
        "id": "7Rt8fpm3c0au",
        "colab_type": "text"
      },
      "source": [
        "Print y"
      ]
    },
    {
      "cell_type": "code",
      "metadata": {
        "id": "65Rvh7LDc1_X",
        "colab_type": "code",
        "outputId": "40527d38-1463-40c3-fb6f-521dbabca91e",
        "colab": {
          "base_uri": "https://localhost:8080/",
          "height": 34
        }
      },
      "source": [
        "print (y)"
      ],
      "execution_count": 0,
      "outputs": [
        {
          "output_type": "stream",
          "text": [
            "30\n"
          ],
          "name": "stdout"
        }
      ]
    }
  ]
}