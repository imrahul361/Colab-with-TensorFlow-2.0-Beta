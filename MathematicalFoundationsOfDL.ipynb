{
  "nbformat": 4,
  "nbformat_minor": 0,
  "metadata": {
    "colab": {
      "name": "MathematicalFoundationsOfDL.ipynb",
      "version": "0.3.2",
      "provenance": []
    },
    "kernelspec": {
      "name": "python3",
      "display_name": "Python 3"
    }
  },
  "cells": [
    {
      "cell_type": "markdown",
      "metadata": {
        "id": "pgVSgBBKtdbe",
        "colab_type": "text"
      },
      "source": [
        "# Data Representation for Deep Learning\n",
        "\n",
        "The first neural network that we built for MNIST handwritten-digit recognition, we started from data stored in multidimensional arrays called **tensors**.  \n",
        "\n",
        "* Tensor is a container for data, where we store almost always numerical data. \n",
        "* Tensors are a generalization of matrices to an arbitrary number of dimensions. (a *dimension* is called an *axis* or *rank*.)\n",
        "\n",
        "A tensor is defined by three attributes:\n",
        "1. Number of axes or rank  (`ndim`)\n",
        "2. Shape (`shape`)\n",
        "3. Data type (`dtype`)\n",
        "\n",
        "We can obtain the number of tensor dimensions through `ndim` function on tensor, its shape can be obtained by `shape` function\n",
        "and the data type is obtained by `dtype` function.\n",
        "\n",
        "- Let's look at  different types of tensors. \n",
        "- For each tensor, we will print its **number of dimensions, shape** and **data type**.\n"
      ]
    },
    {
      "cell_type": "code",
      "metadata": {
        "id": "Uaa-AMEhtVP6",
        "colab_type": "code",
        "colab": {}
      },
      "source": [
        "import numpy as np"
      ],
      "execution_count": 0,
      "outputs": []
    },
    {
      "cell_type": "markdown",
      "metadata": {
        "id": "5r9F-xSNurdk",
        "colab_type": "text"
      },
      "source": [
        "## Scalars (0D tensors)\n",
        "\n",
        "A tensor that contains only one number is called *scalar* or *scalar tensor* or *0-dimensional tensor*."
      ]
    },
    {
      "cell_type": "code",
      "metadata": {
        "id": "a97H_XcjuqmP",
        "colab_type": "code",
        "outputId": "377ee018-a130-4231-e2ab-fa5a0e04791d",
        "colab": {
          "base_uri": "https://localhost:8080/",
          "height": 34
        }
      },
      "source": [
        "x = np.array(10)\n",
        "x"
      ],
      "execution_count": 0,
      "outputs": [
        {
          "output_type": "execute_result",
          "data": {
            "text/plain": [
              "array(10)"
            ]
          },
          "metadata": {
            "tags": []
          },
          "execution_count": 2
        }
      ]
    },
    {
      "cell_type": "code",
      "metadata": {
        "id": "pNMPnkyd8tBa",
        "colab_type": "code",
        "outputId": "c04ac21d-e1f5-45a1-8759-3c1208476f2c",
        "colab": {
          "base_uri": "https://localhost:8080/",
          "height": 34
        }
      },
      "source": [
        "x.shape"
      ],
      "execution_count": 0,
      "outputs": [
        {
          "output_type": "execute_result",
          "data": {
            "text/plain": [
              "()"
            ]
          },
          "metadata": {
            "tags": []
          },
          "execution_count": 3
        }
      ]
    },
    {
      "cell_type": "code",
      "metadata": {
        "id": "0v87u3WdyTmA",
        "colab_type": "code",
        "outputId": "b277a344-6b50-49e1-8c8e-50b115673ff4",
        "colab": {
          "base_uri": "https://localhost:8080/",
          "height": 34
        }
      },
      "source": [
        "x.ndim"
      ],
      "execution_count": 0,
      "outputs": [
        {
          "output_type": "execute_result",
          "data": {
            "text/plain": [
              "0"
            ]
          },
          "metadata": {
            "tags": []
          },
          "execution_count": 4
        }
      ]
    },
    {
      "cell_type": "code",
      "metadata": {
        "id": "9LM-0WcDvrve",
        "colab_type": "code",
        "outputId": "f3eb4b29-2ced-4024-9ad7-849bb8f0029b",
        "colab": {
          "base_uri": "https://localhost:8080/",
          "height": 34
        }
      },
      "source": [
        "x.dtype"
      ],
      "execution_count": 0,
      "outputs": [
        {
          "output_type": "execute_result",
          "data": {
            "text/plain": [
              "dtype('int64')"
            ]
          },
          "metadata": {
            "tags": []
          },
          "execution_count": 5
        }
      ]
    },
    {
      "cell_type": "markdown",
      "metadata": {
        "id": "IrpDmVLSwBaO",
        "colab_type": "text"
      },
      "source": [
        "## Vectors (1D tensors)\n",
        "\n",
        "An array of numbers is called *vector* or *1D tensor*."
      ]
    },
    {
      "cell_type": "code",
      "metadata": {
        "id": "WIY5zAPBwFIu",
        "colab_type": "code",
        "outputId": "01cd11ff-ac10-4e86-b41c-8a213925f2ed",
        "colab": {
          "base_uri": "https://localhost:8080/",
          "height": 34
        }
      },
      "source": [
        "x = np.array([4, 2, 5, 9])\n",
        "x.shape"
      ],
      "execution_count": 0,
      "outputs": [
        {
          "output_type": "execute_result",
          "data": {
            "text/plain": [
              "(4,)"
            ]
          },
          "metadata": {
            "tags": []
          },
          "execution_count": 6
        }
      ]
    },
    {
      "cell_type": "code",
      "metadata": {
        "id": "RqojOQmswSd8",
        "colab_type": "code",
        "outputId": "16f61f7f-bfd1-475e-d50e-1503db035df9",
        "colab": {
          "base_uri": "https://localhost:8080/",
          "height": 34
        }
      },
      "source": [
        "x.ndim"
      ],
      "execution_count": 0,
      "outputs": [
        {
          "output_type": "execute_result",
          "data": {
            "text/plain": [
              "1"
            ]
          },
          "metadata": {
            "tags": []
          },
          "execution_count": 64
        }
      ]
    },
    {
      "cell_type": "markdown",
      "metadata": {
        "id": "BiNU8LgewoIM",
        "colab_type": "text"
      },
      "source": [
        "## Matrices (2D tensors)\n",
        "\n",
        "An array of vectors is a *matrix*, or *2D tensor*.\n",
        "\n",
        "A matrix has two axes: *rows* and *columns*."
      ]
    },
    {
      "cell_type": "code",
      "metadata": {
        "id": "mIMYclt2xFuq",
        "colab_type": "code",
        "outputId": "e25d1fd7-d763-4b79-fdcf-ba9264041e1c",
        "colab": {
          "base_uri": "https://localhost:8080/",
          "height": 70
        }
      },
      "source": [
        "x = np.array([[1,2,3],\n",
        "              [4,5,6],\n",
        "              [7,8,9]])\n",
        "x"
      ],
      "execution_count": 0,
      "outputs": [
        {
          "output_type": "execute_result",
          "data": {
            "text/plain": [
              "array([[1, 2, 3],\n",
              "       [4, 5, 6],\n",
              "       [7, 8, 9]])"
            ]
          },
          "metadata": {
            "tags": []
          },
          "execution_count": 66
        }
      ]
    },
    {
      "cell_type": "markdown",
      "metadata": {
        "id": "5lszf7yEEGVU",
        "colab_type": "text"
      },
      "source": [
        "- The entries from the first axis are called the **rows**.  E.g.  $[1, 2, 3]$ is the first row of matrix x. \n",
        "- The entries from the second axis are called the **columns**.  E.g. $[1,4,7]$ is the first column of the matrix.\n",
        "\n"
      ]
    },
    {
      "cell_type": "code",
      "metadata": {
        "id": "nAHjNm9XxV9D",
        "colab_type": "code",
        "outputId": "efe471f7-cd44-4923-9b27-dada246f5447",
        "colab": {
          "base_uri": "https://localhost:8080/",
          "height": 34
        }
      },
      "source": [
        "x.shape"
      ],
      "execution_count": 0,
      "outputs": [
        {
          "output_type": "execute_result",
          "data": {
            "text/plain": [
              "(3, 3)"
            ]
          },
          "metadata": {
            "tags": []
          },
          "execution_count": 67
        }
      ]
    },
    {
      "cell_type": "code",
      "metadata": {
        "id": "j0RJwAYVxYHS",
        "colab_type": "code",
        "outputId": "3fc488a6-5f66-42ca-e8c0-2ee5450f21c8",
        "colab": {
          "base_uri": "https://localhost:8080/",
          "height": 34
        }
      },
      "source": [
        "x.ndim"
      ],
      "execution_count": 0,
      "outputs": [
        {
          "output_type": "execute_result",
          "data": {
            "text/plain": [
              "2"
            ]
          },
          "metadata": {
            "tags": []
          },
          "execution_count": 68
        }
      ]
    },
    {
      "cell_type": "code",
      "metadata": {
        "id": "Y99WUv0Fen_q",
        "colab_type": "code",
        "outputId": "52f99727-c1c1-4c47-b66d-bc887811e335",
        "colab": {
          "base_uri": "https://localhost:8080/",
          "height": 34
        }
      },
      "source": [
        "x.dtype"
      ],
      "execution_count": 0,
      "outputs": [
        {
          "output_type": "execute_result",
          "data": {
            "text/plain": [
              "dtype('int64')"
            ]
          },
          "metadata": {
            "tags": []
          },
          "execution_count": 69
        }
      ]
    },
    {
      "cell_type": "markdown",
      "metadata": {
        "id": "BtwTCaZjwcT2",
        "colab_type": "text"
      },
      "source": [
        "## 3D Tensors\n",
        "\n",
        "We can pack matrices in an array to get 3D tensors.  Similarly we can pack 3D tensors in a new array, we get 4D tensors and so on."
      ]
    },
    {
      "cell_type": "code",
      "metadata": {
        "id": "ioBqYf9wGYFj",
        "colab_type": "code",
        "colab": {}
      },
      "source": [
        "x = np.array([[[1,2,3],\n",
        "              [4,5,6],\n",
        "              [7,8,9]],\n",
        "            [[1,2,3],\n",
        "              [4,5,6],\n",
        "              [7,8,9]],\n",
        "            [[1,2,3],\n",
        "              [4,5,6],\n",
        "              [7,8,9]]])"
      ],
      "execution_count": 0,
      "outputs": []
    },
    {
      "cell_type": "code",
      "metadata": {
        "id": "ss6Pe-J2Glz9",
        "colab_type": "code",
        "outputId": "8b5bebb9-ceb4-4859-c254-28ac51ccc925",
        "colab": {
          "base_uri": "https://localhost:8080/",
          "height": 34
        }
      },
      "source": [
        "x.shape"
      ],
      "execution_count": 0,
      "outputs": [
        {
          "output_type": "execute_result",
          "data": {
            "text/plain": [
              "(3, 3, 3)"
            ]
          },
          "metadata": {
            "tags": []
          },
          "execution_count": 71
        }
      ]
    },
    {
      "cell_type": "code",
      "metadata": {
        "id": "NNg-Zc0mGnmg",
        "colab_type": "code",
        "outputId": "96aabd49-44e5-4f98-e416-baeeb8dbc286",
        "colab": {
          "base_uri": "https://localhost:8080/",
          "height": 34
        }
      },
      "source": [
        "x.ndim"
      ],
      "execution_count": 0,
      "outputs": [
        {
          "output_type": "execute_result",
          "data": {
            "text/plain": [
              "3"
            ]
          },
          "metadata": {
            "tags": []
          },
          "execution_count": 72
        }
      ]
    },
    {
      "cell_type": "code",
      "metadata": {
        "id": "N1UWX34vexIc",
        "colab_type": "code",
        "outputId": "afe55750-0191-4db4-e177-6d6b40ea125a",
        "colab": {
          "base_uri": "https://localhost:8080/",
          "height": 34
        }
      },
      "source": [
        "x.dtype"
      ],
      "execution_count": 0,
      "outputs": [
        {
          "output_type": "execute_result",
          "data": {
            "text/plain": [
              "dtype('int64')"
            ]
          },
          "metadata": {
            "tags": []
          },
          "execution_count": 73
        }
      ]
    },
    {
      "cell_type": "markdown",
      "metadata": {
        "id": "ODjv0ciRIYLG",
        "colab_type": "text"
      },
      "source": [
        "## Tensor in MNIST datasets\n",
        "\n",
        "Let's check out tensors from the first TF model that we built."
      ]
    },
    {
      "cell_type": "code",
      "metadata": {
        "id": "jcX8e6u7I0Qa",
        "colab_type": "code",
        "outputId": "56b8a514-d545-4e8c-eab1-f7725683ef24",
        "colab": {
          "base_uri": "https://localhost:8080/",
          "height": 389
        }
      },
      "source": [
        "from __future__ import absolute_import, division, print_function, unicode_literals\n",
        "\n",
        "# Install TensorFlow\n",
        "!pip install tensorflow==2.0.0-beta1\n",
        "\n",
        "import tensorflow as tf"
      ],
      "execution_count": 0,
      "outputs": [
        {
          "output_type": "stream",
          "text": [
            "Requirement already satisfied: tensorflow==2.0.0-beta1 in /usr/local/lib/python3.6/dist-packages (2.0.0b1)\n",
            "Requirement already satisfied: keras-preprocessing>=1.0.5 in /usr/local/lib/python3.6/dist-packages (from tensorflow==2.0.0-beta1) (1.1.0)\n",
            "Requirement already satisfied: tf-estimator-nightly<1.14.0.dev2019060502,>=1.14.0.dev2019060501 in /usr/local/lib/python3.6/dist-packages (from tensorflow==2.0.0-beta1) (1.14.0.dev2019060501)\n",
            "Requirement already satisfied: wrapt>=1.11.1 in /usr/local/lib/python3.6/dist-packages (from tensorflow==2.0.0-beta1) (1.11.2)\n",
            "Requirement already satisfied: numpy<2.0,>=1.14.5 in /usr/local/lib/python3.6/dist-packages (from tensorflow==2.0.0-beta1) (1.16.4)\n",
            "Requirement already satisfied: gast>=0.2.0 in /usr/local/lib/python3.6/dist-packages (from tensorflow==2.0.0-beta1) (0.2.2)\n",
            "Requirement already satisfied: grpcio>=1.8.6 in /usr/local/lib/python3.6/dist-packages (from tensorflow==2.0.0-beta1) (1.15.0)\n",
            "Requirement already satisfied: tb-nightly<1.14.0a20190604,>=1.14.0a20190603 in /usr/local/lib/python3.6/dist-packages (from tensorflow==2.0.0-beta1) (1.14.0a20190603)\n",
            "Requirement already satisfied: six>=1.10.0 in /usr/local/lib/python3.6/dist-packages (from tensorflow==2.0.0-beta1) (1.12.0)\n",
            "Requirement already satisfied: astor>=0.6.0 in /usr/local/lib/python3.6/dist-packages (from tensorflow==2.0.0-beta1) (0.8.0)\n",
            "Requirement already satisfied: protobuf>=3.6.1 in /usr/local/lib/python3.6/dist-packages (from tensorflow==2.0.0-beta1) (3.7.1)\n",
            "Requirement already satisfied: absl-py>=0.7.0 in /usr/local/lib/python3.6/dist-packages (from tensorflow==2.0.0-beta1) (0.7.1)\n",
            "Requirement already satisfied: keras-applications>=1.0.6 in /usr/local/lib/python3.6/dist-packages (from tensorflow==2.0.0-beta1) (1.0.8)\n",
            "Requirement already satisfied: termcolor>=1.1.0 in /usr/local/lib/python3.6/dist-packages (from tensorflow==2.0.0-beta1) (1.1.0)\n",
            "Requirement already satisfied: wheel>=0.26 in /usr/local/lib/python3.6/dist-packages (from tensorflow==2.0.0-beta1) (0.33.4)\n",
            "Requirement already satisfied: google-pasta>=0.1.6 in /usr/local/lib/python3.6/dist-packages (from tensorflow==2.0.0-beta1) (0.1.7)\n",
            "Requirement already satisfied: markdown>=2.6.8 in /usr/local/lib/python3.6/dist-packages (from tb-nightly<1.14.0a20190604,>=1.14.0a20190603->tensorflow==2.0.0-beta1) (3.1.1)\n",
            "Requirement already satisfied: werkzeug>=0.11.15 in /usr/local/lib/python3.6/dist-packages (from tb-nightly<1.14.0a20190604,>=1.14.0a20190603->tensorflow==2.0.0-beta1) (0.15.4)\n",
            "Requirement already satisfied: setuptools>=41.0.0 in /usr/local/lib/python3.6/dist-packages (from tb-nightly<1.14.0a20190604,>=1.14.0a20190603->tensorflow==2.0.0-beta1) (41.0.1)\n",
            "Requirement already satisfied: h5py in /usr/local/lib/python3.6/dist-packages (from keras-applications>=1.0.6->tensorflow==2.0.0-beta1) (2.8.0)\n"
          ],
          "name": "stdout"
        }
      ]
    },
    {
      "cell_type": "markdown",
      "metadata": {
        "id": "YMEPpHC9_I6W",
        "colab_type": "text"
      },
      "source": [
        "Let's load the MNIST dataset and look at x_train and y_train tensors"
      ]
    },
    {
      "cell_type": "code",
      "metadata": {
        "id": "rkivR41sI6eh",
        "colab_type": "code",
        "colab": {}
      },
      "source": [
        "mnist = tf.keras.datasets.mnist\n",
        "(x_train, y_train), (x_test, y_test) = mnist.load_data()"
      ],
      "execution_count": 0,
      "outputs": []
    },
    {
      "cell_type": "code",
      "metadata": {
        "id": "98SMpcyTI9pW",
        "colab_type": "code",
        "outputId": "3ccad0ad-f064-452f-ffc4-c45e4da119b0",
        "colab": {
          "base_uri": "https://localhost:8080/",
          "height": 122
        }
      },
      "source": [
        "print (\"Attributes of training data Tensor\")\n",
        "print (\"==================================\")\n",
        "print (\"Number of axes in tensor = %d\"%x_train.ndim)\n",
        "print (\"Shape of a tensor:\", x_train.shape)\n",
        "print (\"Data type of tensor elements: %s\"%x_train.dtype)\n",
        "\n",
        "print (\"\")\n",
        "\n"
      ],
      "execution_count": 0,
      "outputs": [
        {
          "output_type": "stream",
          "text": [
            "Attributes of training data Tensor\n",
            "==================================\n",
            "Number of axes in tensor = 3\n",
            "Shape of a tensor: (60000, 28, 28)\n",
            "Data type of tensor elements: uint8\n",
            "\n"
          ],
          "name": "stdout"
        }
      ]
    },
    {
      "cell_type": "markdown",
      "metadata": {
        "id": "nUHHAy9YKYBB",
        "colab_type": "text"
      },
      "source": [
        "Training data tensor is an array of 60,000 matrices of 28x28 8-bit integers.  Each matrix is a grey-scale image with each pixel value between 0 to 255."
      ]
    },
    {
      "cell_type": "code",
      "metadata": {
        "id": "gt_5-9ccKUla",
        "colab_type": "code",
        "outputId": "4cf695fd-1ea7-4d01-86a7-6679a4014121",
        "colab": {
          "base_uri": "https://localhost:8080/",
          "height": 105
        }
      },
      "source": [
        "print (\"Attributes of training label Tensor\")\n",
        "print (\"===================================\")\n",
        "print (\"Number of axes in tensor = %d\"%y_train.ndim)\n",
        "print (\"Shape of a tensor:\", y_train.shape)\n",
        "print (\"Data type of tensor elements: %s\"%y_train.dtype)"
      ],
      "execution_count": 0,
      "outputs": [
        {
          "output_type": "stream",
          "text": [
            "Attributes of training label Tensor\n",
            "===================================\n",
            "Number of axes in tensor = 1\n",
            "Shape of a tensor: (60000,)\n",
            "Data type of tensor elements: uint8\n"
          ],
          "name": "stdout"
        }
      ]
    },
    {
      "cell_type": "markdown",
      "metadata": {
        "id": "JuoM6kxKK0gU",
        "colab_type": "text"
      },
      "source": [
        "Training label tensor is a vector or 1D array of labels containing 60,000 entries.  Each element is a 8-bit integer."
      ]
    },
    {
      "cell_type": "markdown",
      "metadata": {
        "id": "wlh1qrHKArwr",
        "colab_type": "text"
      },
      "source": [
        "### Question\n",
        "Find out number of dimensions, shape and data type of x_test and y_test tensors?"
      ]
    },
    {
      "cell_type": "markdown",
      "metadata": {
        "id": "3Sz3cw34Aa79",
        "colab_type": "text"
      },
      "source": [
        "# Data Selection (Tensor Slicing)\n",
        "\n",
        "Selecting a specific elements in a tensor is called *tensor slicing*."
      ]
    },
    {
      "cell_type": "markdown",
      "metadata": {
        "id": "kpZgXTmC_lLq",
        "colab_type": "text"
      },
      "source": [
        "## Selecting a single data point\n",
        "\n",
        "Let's look at the first training example:"
      ]
    },
    {
      "cell_type": "code",
      "metadata": {
        "id": "HFwgxzbDry8m",
        "colab_type": "code",
        "outputId": "bb04c3d0-0731-47e7-bba6-9af7810a56f8",
        "colab": {
          "base_uri": "https://localhost:8080/",
          "height": 1000
        }
      },
      "source": [
        "x_1 = x_train[0]\n",
        "x_1"
      ],
      "execution_count": 0,
      "outputs": [
        {
          "output_type": "execute_result",
          "data": {
            "text/plain": [
              "array([[  0,   0,   0,   0,   0,   0,   0,   0,   0,   0,   0,   0,   0,\n",
              "          0,   0,   0,   0,   0,   0,   0,   0,   0,   0,   0,   0,   0,\n",
              "          0,   0],\n",
              "       [  0,   0,   0,   0,   0,   0,   0,   0,   0,   0,   0,   0,   0,\n",
              "          0,   0,   0,   0,   0,   0,   0,   0,   0,   0,   0,   0,   0,\n",
              "          0,   0],\n",
              "       [  0,   0,   0,   0,   0,   0,   0,   0,   0,   0,   0,   0,   0,\n",
              "          0,   0,   0,   0,   0,   0,   0,   0,   0,   0,   0,   0,   0,\n",
              "          0,   0],\n",
              "       [  0,   0,   0,   0,   0,   0,   0,   0,   0,   0,   0,   0,   0,\n",
              "          0,   0,   0,   0,   0,   0,   0,   0,   0,   0,   0,   0,   0,\n",
              "          0,   0],\n",
              "       [  0,   0,   0,   0,   0,   0,   0,   0,   0,   0,   0,   0,   0,\n",
              "          0,   0,   0,   0,   0,   0,   0,   0,   0,   0,   0,   0,   0,\n",
              "          0,   0],\n",
              "       [  0,   0,   0,   0,   0,   0,   0,   0,   0,   0,   0,   0,   3,\n",
              "         18,  18,  18, 126, 136, 175,  26, 166, 255, 247, 127,   0,   0,\n",
              "          0,   0],\n",
              "       [  0,   0,   0,   0,   0,   0,   0,   0,  30,  36,  94, 154, 170,\n",
              "        253, 253, 253, 253, 253, 225, 172, 253, 242, 195,  64,   0,   0,\n",
              "          0,   0],\n",
              "       [  0,   0,   0,   0,   0,   0,   0,  49, 238, 253, 253, 253, 253,\n",
              "        253, 253, 253, 253, 251,  93,  82,  82,  56,  39,   0,   0,   0,\n",
              "          0,   0],\n",
              "       [  0,   0,   0,   0,   0,   0,   0,  18, 219, 253, 253, 253, 253,\n",
              "        253, 198, 182, 247, 241,   0,   0,   0,   0,   0,   0,   0,   0,\n",
              "          0,   0],\n",
              "       [  0,   0,   0,   0,   0,   0,   0,   0,  80, 156, 107, 253, 253,\n",
              "        205,  11,   0,  43, 154,   0,   0,   0,   0,   0,   0,   0,   0,\n",
              "          0,   0],\n",
              "       [  0,   0,   0,   0,   0,   0,   0,   0,   0,  14,   1, 154, 253,\n",
              "         90,   0,   0,   0,   0,   0,   0,   0,   0,   0,   0,   0,   0,\n",
              "          0,   0],\n",
              "       [  0,   0,   0,   0,   0,   0,   0,   0,   0,   0,   0, 139, 253,\n",
              "        190,   2,   0,   0,   0,   0,   0,   0,   0,   0,   0,   0,   0,\n",
              "          0,   0],\n",
              "       [  0,   0,   0,   0,   0,   0,   0,   0,   0,   0,   0,  11, 190,\n",
              "        253,  70,   0,   0,   0,   0,   0,   0,   0,   0,   0,   0,   0,\n",
              "          0,   0],\n",
              "       [  0,   0,   0,   0,   0,   0,   0,   0,   0,   0,   0,   0,  35,\n",
              "        241, 225, 160, 108,   1,   0,   0,   0,   0,   0,   0,   0,   0,\n",
              "          0,   0],\n",
              "       [  0,   0,   0,   0,   0,   0,   0,   0,   0,   0,   0,   0,   0,\n",
              "         81, 240, 253, 253, 119,  25,   0,   0,   0,   0,   0,   0,   0,\n",
              "          0,   0],\n",
              "       [  0,   0,   0,   0,   0,   0,   0,   0,   0,   0,   0,   0,   0,\n",
              "          0,  45, 186, 253, 253, 150,  27,   0,   0,   0,   0,   0,   0,\n",
              "          0,   0],\n",
              "       [  0,   0,   0,   0,   0,   0,   0,   0,   0,   0,   0,   0,   0,\n",
              "          0,   0,  16,  93, 252, 253, 187,   0,   0,   0,   0,   0,   0,\n",
              "          0,   0],\n",
              "       [  0,   0,   0,   0,   0,   0,   0,   0,   0,   0,   0,   0,   0,\n",
              "          0,   0,   0,   0, 249, 253, 249,  64,   0,   0,   0,   0,   0,\n",
              "          0,   0],\n",
              "       [  0,   0,   0,   0,   0,   0,   0,   0,   0,   0,   0,   0,   0,\n",
              "          0,  46, 130, 183, 253, 253, 207,   2,   0,   0,   0,   0,   0,\n",
              "          0,   0],\n",
              "       [  0,   0,   0,   0,   0,   0,   0,   0,   0,   0,   0,   0,  39,\n",
              "        148, 229, 253, 253, 253, 250, 182,   0,   0,   0,   0,   0,   0,\n",
              "          0,   0],\n",
              "       [  0,   0,   0,   0,   0,   0,   0,   0,   0,   0,  24, 114, 221,\n",
              "        253, 253, 253, 253, 201,  78,   0,   0,   0,   0,   0,   0,   0,\n",
              "          0,   0],\n",
              "       [  0,   0,   0,   0,   0,   0,   0,   0,  23,  66, 213, 253, 253,\n",
              "        253, 253, 198,  81,   2,   0,   0,   0,   0,   0,   0,   0,   0,\n",
              "          0,   0],\n",
              "       [  0,   0,   0,   0,   0,   0,  18, 171, 219, 253, 253, 253, 253,\n",
              "        195,  80,   9,   0,   0,   0,   0,   0,   0,   0,   0,   0,   0,\n",
              "          0,   0],\n",
              "       [  0,   0,   0,   0,  55, 172, 226, 253, 253, 253, 253, 244, 133,\n",
              "         11,   0,   0,   0,   0,   0,   0,   0,   0,   0,   0,   0,   0,\n",
              "          0,   0],\n",
              "       [  0,   0,   0,   0, 136, 253, 253, 253, 212, 135, 132,  16,   0,\n",
              "          0,   0,   0,   0,   0,   0,   0,   0,   0,   0,   0,   0,   0,\n",
              "          0,   0],\n",
              "       [  0,   0,   0,   0,   0,   0,   0,   0,   0,   0,   0,   0,   0,\n",
              "          0,   0,   0,   0,   0,   0,   0,   0,   0,   0,   0,   0,   0,\n",
              "          0,   0],\n",
              "       [  0,   0,   0,   0,   0,   0,   0,   0,   0,   0,   0,   0,   0,\n",
              "          0,   0,   0,   0,   0,   0,   0,   0,   0,   0,   0,   0,   0,\n",
              "          0,   0],\n",
              "       [  0,   0,   0,   0,   0,   0,   0,   0,   0,   0,   0,   0,   0,\n",
              "          0,   0,   0,   0,   0,   0,   0,   0,   0,   0,   0,   0,   0,\n",
              "          0,   0]], dtype=uint8)"
            ]
          },
          "metadata": {
            "tags": []
          },
          "execution_count": 78
        }
      ]
    },
    {
      "cell_type": "markdown",
      "metadata": {
        "id": "nJuSNI1O_yZl",
        "colab_type": "text"
      },
      "source": [
        "As you can see that there are 28 rows of 28 dimensional vectors and each position holds a number between 0 to 255.  Let's visualize the digit:"
      ]
    },
    {
      "cell_type": "code",
      "metadata": {
        "id": "jjIxVBQELMlc",
        "colab_type": "code",
        "outputId": "938d60be-eb46-4011-d625-958e2c44388e",
        "colab": {
          "base_uri": "https://localhost:8080/",
          "height": 269
        }
      },
      "source": [
        "# Let's display first image from the training set with Matplotlib.\n",
        "import matplotlib.pyplot as plt\n",
        "\n",
        "# Function to display an image.\n",
        "def display_image(img):\n",
        "  plt.imshow(img, cmap=plt.cm.binary)\n",
        "  plt.show()\n",
        "  \n",
        "\n",
        "display_image(x_1)"
      ],
      "execution_count": 0,
      "outputs": [
        {
          "output_type": "display_data",
          "data": {
            "image/png": "[encoded data removed]",
            "text/plain": [
              "<Figure size 432x288 with 1 Axes>"
            ]
          },
          "metadata": {
            "tags": []
          }
        }
      ]
    },
    {
      "cell_type": "markdown",
      "metadata": {
        "id": "8mW7EuB5AzPT",
        "colab_type": "text"
      },
      "source": [
        "### Question\n",
        "Write the code to look at the 11-th data point in the training set and display the number with the help of `imshow`. "
      ]
    },
    {
      "cell_type": "code",
      "metadata": {
        "id": "eq9fALjnMfh1",
        "colab_type": "code",
        "cellView": "both",
        "outputId": "ed462158-ad60-4490-e62d-5c7e5a42557f",
        "colab": {
          "base_uri": "https://localhost:8080/",
          "height": 1000
        }
      },
      "source": [
        "#@title Expand to check the solution\n",
        "# Check out 11-th image in the training set.\n",
        "i = 10\n",
        "x_i = x_train[i]\n",
        "print (x_i)\n",
        "display_image(x_i)"
      ],
      "execution_count": 0,
      "outputs": [
        {
          "output_type": "stream",
          "text": [
            "[[  0   0   0   0   0   0   0   0   0   0   0   0   0   0   0   0   0   0\n",
            "    0   0   0   0   0   0   0   0   0   0]\n",
            " [  0   0   0   0   0   0   0   0   0   0   0   0   0   0   0   0   0   0\n",
            "    0   0   0   0   0   0   0   0   0   0]\n",
            " [  0   0   0   0   0   0   0   0   0   0   0   0   0   0   0   0   0   0\n",
            "    0   0   0   0   0   0   0   0   0   0]\n",
            " [  0   0   0   0   0   0   0   0   0   0   0   0   0   0   0   0   0   0\n",
            "    0   0   0   0   0   0   0   0   0   0]\n",
            " [  0   0   0   0   0   0   0   0   0   0   0  42 118 219 166 118 118   6\n",
            "    0   0   0   0   0   0   0   0   0   0]\n",
            " [  0   0   0   0   0   0   0   0   0   0 103 242 254 254 254 254 254  66\n",
            "    0   0   0   0   0   0   0   0   0   0]\n",
            " [  0   0   0   0   0   0   0   0   0   0  18 232 254 254 254 254 254 238\n",
            "   70   0   0   0   0   0   0   0   0   0]\n",
            " [  0   0   0   0   0   0   0   0   0   0   0 104 244 254 224 254 254 254\n",
            "  141   0   0   0   0   0   0   0   0   0]\n",
            " [  0   0   0   0   0   0   0   0   0   0   0   0 207 254 210 254 254 254\n",
            "   34   0   0   0   0   0   0   0   0   0]\n",
            " [  0   0   0   0   0   0   0   0   0   0   0   0  84 206 254 254 254 254\n",
            "   41   0   0   0   0   0   0   0   0   0]\n",
            " [  0   0   0   0   0   0   0   0   0   0   0   0   0  24 209 254 254 254\n",
            "  171   0   0   0   0   0   0   0   0   0]\n",
            " [  0   0   0   0   0   0   0   0   0   0   0   0  91 137 253 254 254 254\n",
            "  112   0   0   0   0   0   0   0   0   0]\n",
            " [  0   0   0   0   0   0   0   0   0   0  40 214 250 254 254 254 254 254\n",
            "   34   0   0   0   0   0   0   0   0   0]\n",
            " [  0   0   0   0   0   0   0   0   0   0  81 247 254 254 254 254 254 254\n",
            "  146   0   0   0   0   0   0   0   0   0]\n",
            " [  0   0   0   0   0   0   0   0   0   0   0 110 246 254 254 254 254 254\n",
            "  171   0   0   0   0   0   0   0   0   0]\n",
            " [  0   0   0   0   0   0   0   0   0   0   0   0  73  89  89  93 240 254\n",
            "  171   0   0   0   0   0   0   0   0   0]\n",
            " [  0   0   0   0   0   0   0   0   0   0   0   0   0   0   0   1 128 254\n",
            "  219  31   0   0   0   0   0   0   0   0]\n",
            " [  0   0   0   0   0   0   0   0   0   0   0   0   0   0   0   7 254 254\n",
            "  214  28   0   0   0   0   0   0   0   0]\n",
            " [  0   0   0   0   0   0   0   0   0   0   0   0   0   0   0 138 254 254\n",
            "  116   0   0   0   0   0   0   0   0   0]\n",
            " [  0   0   0   0   0   0  19 177  90   0   0   0   0   0  25 240 254 254\n",
            "   34   0   0   0   0   0   0   0   0   0]\n",
            " [  0   0   0   0   0   0 164 254 215  63  36   0  51  89 206 254 254 139\n",
            "    8   0   0   0   0   0   0   0   0   0]\n",
            " [  0   0   0   0   0   0  57 197 254 254 222 180 241 254 254 253 213  11\n",
            "    0   0   0   0   0   0   0   0   0   0]\n",
            " [  0   0   0   0   0   0   0 140 105 254 254 254 254 254 254 236   0   0\n",
            "    0   0   0   0   0   0   0   0   0   0]\n",
            " [  0   0   0   0   0   0   0   0   7 117 117 165 254 254 239  50   0   0\n",
            "    0   0   0   0   0   0   0   0   0   0]\n",
            " [  0   0   0   0   0   0   0   0   0   0   0   0   0   0   0   0   0   0\n",
            "    0   0   0   0   0   0   0   0   0   0]\n",
            " [  0   0   0   0   0   0   0   0   0   0   0   0   0   0   0   0   0   0\n",
            "    0   0   0   0   0   0   0   0   0   0]\n",
            " [  0   0   0   0   0   0   0   0   0   0   0   0   0   0   0   0   0   0\n",
            "    0   0   0   0   0   0   0   0   0   0]\n",
            " [  0   0   0   0   0   0   0   0   0   0   0   0   0   0   0   0   0   0\n",
            "    0   0   0   0   0   0   0   0   0   0]]\n"
          ],
          "name": "stdout"
        },
        {
          "output_type": "display_data",
          "data": {
            "image/png": "[encoded data removed]",
            "text/plain": [
              "<Figure size 432x288 with 1 Axes>"
            ]
          },
          "metadata": {
            "tags": []
          }
        }
      ]
    },
    {
      "cell_type": "markdown",
      "metadata": {
        "id": "bTt7huD1Nq_4",
        "colab_type": "text"
      },
      "source": [
        "## Select multiple data points\n",
        "- : is used to select the entire axis.\n",
        "- i:j is used to select $i$-th to$ j-1$-th data points.  Note that $j$-th point is not included."
      ]
    },
    {
      "cell_type": "code",
      "metadata": {
        "id": "WNOr-ZvGObS1",
        "colab_type": "code",
        "outputId": "d0052f64-7bb9-46d5-dcc8-35a9707c7ee1",
        "colab": {
          "base_uri": "https://localhost:8080/",
          "height": 105
        }
      },
      "source": [
        "# select data point from 10 to 100 (100 is not included)\n",
        "x_train_slice = x_train[10:100]\n",
        "# print(x_train_slice)\n",
        "\n",
        "print (\"Attributes of data slice tensor\")\n",
        "print (\"===================================\")\n",
        "print (\"Number of axes in tensor = %d\"%x_train_slice.ndim)\n",
        "print (\"Shape of a tensor:\", x_train_slice.shape)\n",
        "print (\"Data type of tensor elements: %s\"%x_train_slice.dtype)\n"
      ],
      "execution_count": 0,
      "outputs": [
        {
          "output_type": "stream",
          "text": [
            "Attributes of data slice tensor\n",
            "===================================\n",
            "Number of axes in tensor = 3\n",
            "Shape of a tensor: (90, 28, 28)\n",
            "Data type of tensor elements: uint8\n"
          ],
          "name": "stdout"
        }
      ]
    },
    {
      "cell_type": "markdown",
      "metadata": {
        "id": "4aXR2AYhPDL_",
        "colab_type": "text"
      },
      "source": [
        "There are a few more equivalent ways of doing the same thing:"
      ]
    },
    {
      "cell_type": "code",
      "metadata": {
        "id": "DyiYOUEaPCAO",
        "colab_type": "code",
        "outputId": "6027066e-d94d-4aae-c93f-23c0398fc3f7",
        "colab": {
          "base_uri": "https://localhost:8080/",
          "height": 105
        }
      },
      "source": [
        "# Here we explicitely select the remaining two axes.\n",
        "x_train_slice = x_train[10:100, :, :]\n",
        "\n",
        "print (\"Attributes of data slice tensor\")\n",
        "print (\"===================================\")\n",
        "print (\"Number of axes in tensor = %d\"%x_train_slice.ndim)\n",
        "print (\"Shape of a tensor:\", x_train_slice.shape)\n",
        "print (\"Data type of tensor elements: %s\"%x_train_slice.dtype)"
      ],
      "execution_count": 0,
      "outputs": [
        {
          "output_type": "stream",
          "text": [
            "Attributes of data slice tensor\n",
            "===================================\n",
            "Number of axes in tensor = 3\n",
            "Shape of a tensor: (90, 28, 28)\n",
            "Data type of tensor elements: uint8\n"
          ],
          "name": "stdout"
        }
      ]
    },
    {
      "cell_type": "code",
      "metadata": {
        "id": "Zbl-e2gZPVj7",
        "colab_type": "code",
        "outputId": "dc2726ef-193d-4ca2-b6b2-12328aa8e349",
        "colab": {
          "base_uri": "https://localhost:8080/",
          "height": 105
        }
      },
      "source": [
        "# Here we explicitely select the remaining two axes by specifying the first and the last elements.\n",
        "x_train_slice = x_train[10:100, 0:28, 0:28]\n",
        "\n",
        "print (\"Attributes of data slice tensor\")\n",
        "print (\"===============================\")\n",
        "print (\"Number of axes in tensor = %d\"%x_train_slice.ndim)\n",
        "print (\"Shape of a tensor:\", x_train_slice.shape)\n",
        "print (\"Data type of tensor elements: %s\"%x_train_slice.dtype)"
      ],
      "execution_count": 0,
      "outputs": [
        {
          "output_type": "stream",
          "text": [
            "Attributes of data slice tensor\n",
            "===============================\n",
            "Number of axes in tensor = 3\n",
            "Shape of a tensor: (90, 28, 28)\n",
            "Data type of tensor elements: uint8\n"
          ],
          "name": "stdout"
        }
      ]
    },
    {
      "cell_type": "markdown",
      "metadata": {
        "id": "e4DUJB7iPej5",
        "colab_type": "text"
      },
      "source": [
        "## Questions:\n",
        "\n",
        "(1) Write the code to select bottom right patch of 14x14 from the training images?"
      ]
    },
    {
      "cell_type": "code",
      "metadata": {
        "id": "Ku0aSt1NPdz1",
        "colab_type": "code",
        "cellView": "both",
        "outputId": "de857800-8503-42f3-b19f-da747fc8c927",
        "colab": {
          "base_uri": "https://localhost:8080/",
          "height": 105
        }
      },
      "source": [
        "#@title Expand to see the answer.\n",
        "x_train_br_slice = x_train[:, 14:, 14:]\n",
        "\n",
        "print (\"Attributes of data slice tensor\")\n",
        "print (\"===============================\")\n",
        "print (\"Number of axes in tensor = %d\"%x_train_br_slice.ndim)\n",
        "print (\"Shape of a tensor:\", x_train_br_slice.shape)\n",
        "print (\"Data type of tensor elements: %s\"%x_train_br_slice.dtype)"
      ],
      "execution_count": 0,
      "outputs": [
        {
          "output_type": "stream",
          "text": [
            "Attributes of data slice tensor\n",
            "===============================\n",
            "Number of axes in tensor = 3\n",
            "Shape of a tensor: (60000, 14, 14)\n",
            "Data type of tensor elements: uint8\n"
          ],
          "name": "stdout"
        }
      ]
    },
    {
      "cell_type": "markdown",
      "metadata": {
        "id": "YX6wl99BP1ni",
        "colab_type": "text"
      },
      "source": [
        "(2) Write the code to crop imags to patches of 14x14 pixel centered in the middle?"
      ]
    },
    {
      "cell_type": "code",
      "metadata": {
        "id": "OxNvD-I4QW_f",
        "colab_type": "code",
        "cellView": "both",
        "outputId": "d5d67ac6-f571-4887-91c4-9c3cbbaf8e8f",
        "colab": {
          "base_uri": "https://localhost:8080/",
          "height": 105
        }
      },
      "source": [
        "#@title Expand to see the answer.\n",
        "x_train_br_slice = x_train[:, 7:-7, 7:-7]\n",
        "\n",
        "print (\"Attributes of data slice tensor\")\n",
        "print (\"===============================\")\n",
        "print (\"Number of axes in tensor = %d\"%x_train_br_slice.ndim)\n",
        "print (\"Shape of a tensor:\", x_train_br_slice.shape)\n",
        "print (\"Data type of tensor elements: %s\"%x_train_br_slice.dtype)"
      ],
      "execution_count": 0,
      "outputs": [
        {
          "output_type": "stream",
          "text": [
            "Attributes of data slice tensor\n",
            "===============================\n",
            "Number of axes in tensor = 3\n",
            "Shape of a tensor: (60000, 14, 14)\n",
            "Data type of tensor elements: uint8\n"
          ],
          "name": "stdout"
        }
      ]
    },
    {
      "cell_type": "markdown",
      "metadata": {
        "id": "XonJcyG7pTaU",
        "colab_type": "text"
      },
      "source": [
        "Since we consume data in batches during training (remember batch gradient descent?), let's understand how data batch tensors look like."
      ]
    },
    {
      "cell_type": "markdown",
      "metadata": {
        "id": "hCB6bnuYR82E",
        "colab_type": "text"
      },
      "source": [
        "# Data Batches\n",
        "\n",
        "We usually break the data into small batches and process those batches:\n",
        "\n",
        "* The first axis in all data sensor is *sample axis* or *sample dimension*.  \n",
        "\n",
        "* The first axis of batch tensor is called the *batch axis* or *batch dimension*.\n"
      ]
    },
    {
      "cell_type": "code",
      "metadata": {
        "id": "Jh4qQPoNS5UX",
        "colab_type": "code",
        "outputId": "3f5cc063-dd41-46b8-8133-17f6e6c6a608",
        "colab": {
          "base_uri": "https://localhost:8080/",
          "height": 228
        }
      },
      "source": [
        "# First batch - first 128 examples.  Each batch has 128 examples.\n",
        "batch_1 = x_train[:128]\n",
        "print (\"Attributes of data slice tensor\")\n",
        "print (\"===============================\")\n",
        "print (\"Number of axes in tensor = %d\"%batch_1.ndim)\n",
        "print (\"Shape of a tensor:\", batch_1.shape)\n",
        "print (\"Data type of tensor elements: %s\"%batch_1.dtype)\n",
        "\n",
        "# Next batch - next 128 examples.\n",
        "batch_2 = x_train[128:256]\n",
        "print (\"\")\n",
        "print (\"Second batch:\")\n",
        "print (\"Attributes of data slice tensor\")\n",
        "print (\"===============================\")\n",
        "print (\"Number of axes in tensor = %d\"%batch_2.ndim)\n",
        "print (\"Shape of a tensor:\", batch_2.shape)\n",
        "print (\"Data type of tensor elements: %s\"%batch_2.dtype)\n"
      ],
      "execution_count": 0,
      "outputs": [
        {
          "output_type": "stream",
          "text": [
            "Attributes of data slice tensor\n",
            "===============================\n",
            "Number of axes in tensor = 3\n",
            "Shape of a tensor: (128, 28, 28)\n",
            "Data type of tensor elements: uint8\n",
            "\n",
            "Second batch:\n",
            "Attributes of data slice tensor\n",
            "===============================\n",
            "Number of axes in tensor = 3\n",
            "Shape of a tensor: (128, 28, 28)\n",
            "Data type of tensor elements: uint8\n"
          ],
          "name": "stdout"
        }
      ]
    },
    {
      "cell_type": "markdown",
      "metadata": {
        "id": "tB9HrsKETle_",
        "colab_type": "text"
      },
      "source": [
        "### Question:\n",
        "Write the code to get $n$-th batch."
      ]
    },
    {
      "cell_type": "code",
      "metadata": {
        "id": "4jiXi_v3TklZ",
        "colab_type": "code",
        "cellView": "form",
        "colab": {}
      },
      "source": [
        "#@title Expand the cell to see the solution.\n",
        "\n",
        "# Since the first batch starts at 0, in order to get n-th batch,\n",
        "# we \n",
        "n = 5\n",
        "batch_n = x_train[128*n:128*(n+1)]\n",
        "\n",
        "print (\"Attributes of data slice tensor\")\n",
        "print (\"===============================\")\n",
        "print (\"Number of axes in tensor = %d\"%batch_n.ndim)\n",
        "print (\"Shape of a tensor:\", batch_n.shape)\n",
        "print (\"Data type of tensor elements: %s\"%batch_n.dtype)\n"
      ],
      "execution_count": 0,
      "outputs": []
    },
    {
      "cell_type": "markdown",
      "metadata": {
        "id": "I4ILeThWUMHB",
        "colab_type": "text"
      },
      "source": [
        "# Real world examples of data tensors\n",
        "\n",
        "| Tensor| Example                             | Shape                                                 | Dataset                                 | \n",
        "|------------|:---------------------------------------:| :-----------------------------------------------------| :----------------------------------------:|\n",
        "| 2D        | Vector                                 |  `(samples, features)`  |  Text documents |\n",
        "| 3D        | Timeseries or Sequence | `(samples, timesteps, features)` |  Stock Prices |\n",
        "| 4D        | Images                               | `(samples, channels, height, width)`  |  MNIST Digit |                 \n",
        "| 5D        | Videos                               | `(samples, frames, channels, height, width)` | Videos |\n",
        "\n",
        "\n"
      ]
    },
    {
      "cell_type": "markdown",
      "metadata": {
        "id": "g3RRBIVGjEWk",
        "colab_type": "text"
      },
      "source": [
        "## Vector data\n",
        "\n",
        "- Most commonly appearing tensor in ML\n",
        "- Each point is encoded as a vector of features\n",
        "- A batch of data can be encoded as a 2D tensor i.e. array of vectors\n",
        "   - First axis is a `sample axis`\n",
        "   - Second axis is a `feature axis` \n",
        "- What are the examples of such dataset?\n",
        "   - Text documents: A set of k documents, each represented with `m` features\n",
        "   - Fuel efficiency dataset: A set of automobiles and their features\n",
        " "
      ]
    },
    {
      "cell_type": "markdown",
      "metadata": {
        "id": "2cdYWvVbtwaO",
        "colab_type": "text"
      },
      "source": [
        "## Timeseries and sequence data\n",
        "\n",
        "We use 3D tensor for storing time-series and sequence data: `(samples, timesteps, features)`\n",
        "\n",
        "### Stock prices dataset\n",
        "- Every minute, we store features associated with that instance of time:  e.g. current price, the highest and the lowest price in the past minute. Thus every minute is encoded as a $m$-D vector, where $m$ is the number of features.  \n",
        "- An entire day of trading is encoded as a 2D tensor of shape (390, $m$) (there are 390 minutes in a trading\n",
        "day).\n",
        "- 250 days’ worth of data can be stored in a 3D tensor of shape (250, 390, $m$). Here, each sample would be one day’s worth of data.\n",
        "\n",
        "\n",
        "### Dataset of tweets\n",
        "Tweet is encoded as a sequence of 280 characters.  \n",
        "- At each position, one of the 128 unique characters is possible. Thus, each character can be encoded as a one-hot-encoding with 128 length vector. \n",
        "- Each tweet can be encoded as a 2D tensor of shape (280, 128).\n",
        "- A dataset of 1000000 can be stored in 3D tensor of shape (1000000, 280, 128)."
      ]
    },
    {
      "cell_type": "markdown",
      "metadata": {
        "id": "zma0lNwFwKk0",
        "colab_type": "text"
      },
      "source": [
        "## Video data\n",
        "\n",
        "- Stored as a 5D tensor of shape `(samples, frames, channels, height, width)`\n",
        "- Each sample is a video encoded in 4D tensor of shape `(frames, channels, height, width)`\n",
        "- Each frame in the video is encoded as a 3D tensor (just like images).  "
      ]
    },
    {
      "cell_type": "markdown",
      "metadata": {
        "id": "mMmeYax7xGRL",
        "colab_type": "text"
      },
      "source": [
        "#### Question\n",
        "Deduce the shape of a tensor to store 4 videos, where each video is a 60-second clip of size 128x256 sampled at 4 frames a second?"
      ]
    },
    {
      "cell_type": "markdown",
      "metadata": {
        "id": "t4G52_81q3hS",
        "colab_type": "text"
      },
      "source": [
        "Now that we have studied how the data is represented in tensor, let's explore how they are used in NN."
      ]
    },
    {
      "cell_type": "markdown",
      "metadata": {
        "id": "G1Ssdrk-xz8n",
        "colab_type": "text"
      },
      "source": [
        "# Key operations in Neural Networks\n",
        "\n",
        "\n",
        "In NN, we specify a layer with the following statement:\n",
        "\n",
        "`tf.keras.layers.Dense(128, activation='relu')`\n",
        "\n",
        "This layer takes 2D tensor as input and returns another 2D tensor as an output through the following function:\n",
        "\n",
        "`output = relu(dot(w, input)+b)`\n",
        "\n",
        "There are three operations here:\n",
        "1. Linear combination of inputs and the corresponding weights: `dot(w, input)` where `w` is a weight vector and `input` is a feature vector.\n",
        "2. Add bias to the calculation `dot(w, input)+b`\n",
        "3. Finally apply a non-linear activiation on the result.  Here we have used `relu` as an activation function, which returns `max(x, 0)`.\n",
        "\n"
      ]
    },
    {
      "cell_type": "markdown",
      "metadata": {
        "id": "_6l666tQuDJY",
        "colab_type": "text"
      },
      "source": [
        "Let $m$ be the size of the input to this layer.  Since it's a dense layer, each unit/neuron in this layer will receive $m$ inputs per sample.   \n",
        "- For each neuron, we have $m$ weights, one corresponding to every input.  Thus for 128 units, we will have  $m$ weights.  `w` is a 2D tensor of shape $(128, m)$.\n",
        "- Input `input` is a vector (2D tensor) with `sample` examples, each represented with $m$ features.\n",
        "- Each unit in the dense layer has a bias term.   Hence `b` is a vector with 128 components. \n"
      ]
    },
    {
      "cell_type": "code",
      "metadata": {
        "id": "EqL1EcyheEHK",
        "colab_type": "code",
        "colab": {}
      },
      "source": [
        "import numpy as np"
      ],
      "execution_count": 0,
      "outputs": []
    },
    {
      "cell_type": "code",
      "metadata": {
        "id": "RaV3r0kXkZdX",
        "colab_type": "code",
        "outputId": "2c5ee34c-412a-4a5a-9ba4-b29f44122241",
        "colab": {
          "base_uri": "https://localhost:8080/",
          "height": 158
        }
      },
      "source": [
        "w = np.array([[1, 0.5], [2, 1]])\n",
        "print (\"# of axes- w = %d\"%w.ndim)\n",
        "print (\"Shape of w = \", w.shape)\n",
        "print ()\n",
        "\n",
        "input = np.array([[1, 2], [-1, 2]])\n",
        "print (\"# of axes- input = %d\"%input.ndim)\n",
        "print (\"Shape input = \", input.shape)\n",
        "print ()\n",
        "\n",
        "b = np.array([-2.0, 0.5])\n",
        "print (\"# of axes- b = %d \"%b.ndim)\n",
        "print (\"Shape of b = \", b.shape)"
      ],
      "execution_count": 0,
      "outputs": [
        {
          "output_type": "stream",
          "text": [
            "# of axes- w = 2\n",
            "Shape of w =  (2, 2)\n",
            "\n",
            "# of axes- input = 2\n",
            "Shape input =  (2, 2)\n",
            "\n",
            "# of axes- b = 1 \n",
            "Shape of b =  (2,)\n"
          ],
          "name": "stdout"
        }
      ]
    },
    {
      "cell_type": "markdown",
      "metadata": {
        "id": "zQtDwZ36U6om",
        "colab_type": "text"
      },
      "source": [
        "Let's apply linear combination"
      ]
    },
    {
      "cell_type": "code",
      "metadata": {
        "id": "PbvIfOzhTjFi",
        "colab_type": "code",
        "outputId": "7062b7cd-711f-4c82-e8e4-2574a30ecc72",
        "colab": {
          "base_uri": "https://localhost:8080/",
          "height": 175
        }
      },
      "source": [
        "z = np.dot(w, input) + b              # Element-wise addition\n",
        "\n",
        "print (\"==================================================\")\n",
        "print (\"Shape of w = \", w.shape)\n",
        "print (\"Shape input = \", input.shape)\n",
        "print (\"Shape of b = \", b.shape)\n",
        "print (\"==================================================\")\n",
        "print (\"Shape of z = \", z.shape)\n",
        "print (\"==================================================\")\n",
        "print (z)\n"
      ],
      "execution_count": 0,
      "outputs": [
        {
          "output_type": "stream",
          "text": [
            "==================================================\n",
            "Shape of w =  (2, 2)\n",
            "Shape input =  (2, 2)\n",
            "Shape of b =  (2,)\n",
            "==================================================\n",
            "Shape of z =  (2, 2)\n",
            "==================================================\n",
            "[[-1.5  3.5]\n",
            " [-1.   6.5]]\n"
          ],
          "name": "stdout"
        }
      ]
    },
    {
      "cell_type": "markdown",
      "metadata": {
        "id": "438UjgoLU-Lt",
        "colab_type": "text"
      },
      "source": [
        "Let's apply non-linear activation with `relu`:"
      ]
    },
    {
      "cell_type": "code",
      "metadata": {
        "id": "bR57LKOBWWrF",
        "colab_type": "code",
        "outputId": "a6e7b4b9-d207-4b69-8e26-966b6dfed9d9",
        "colab": {
          "base_uri": "https://localhost:8080/",
          "height": 70
        }
      },
      "source": [
        "output = np.maximum(0., z)                 # Element-wise relu\n",
        "print (\"Shape of output = \", output.shape)\n",
        "print (output)"
      ],
      "execution_count": 0,
      "outputs": [
        {
          "output_type": "stream",
          "text": [
            "Shape of output =  (2, 2)\n",
            "[[0.  3.5]\n",
            " [0.  6.5]]\n"
          ],
          "name": "stdout"
        }
      ]
    },
    {
      "cell_type": "markdown",
      "metadata": {
        "id": "TlUjnqt8QGFn",
        "colab_type": "text"
      },
      "source": [
        "Before that, we will visualize a few commonly used activations."
      ]
    },
    {
      "cell_type": "code",
      "metadata": {
        "id": "GDl1k6PbOPi9",
        "colab_type": "code",
        "outputId": "facd0217-04d1-4dd7-8ea1-cbae26dbcba8",
        "colab": {
          "base_uri": "https://localhost:8080/",
          "height": 300
        }
      },
      "source": [
        "import matplotlib.pyplot as plt\n",
        "\n",
        "# relu vialuzation\n",
        "x = np.linspace(-10, 10, 100)\n",
        "z = np.maximum(0., x)  \n",
        "plt.plot(x, z)\n",
        "plt.xlabel(\"x\")\n",
        "plt.ylabel(\"relu(x)\")"
      ],
      "execution_count": 0,
      "outputs": [
        {
          "output_type": "execute_result",
          "data": {
            "text/plain": [
              "Text(0, 0.5, 'relu(x)')"
            ]
          },
          "metadata": {
            "tags": []
          },
          "execution_count": 26
        },
        {
          "output_type": "display_data",
          "data": {
            "image/png": "[encoded data removed]",
            "text/plain": [
              "<Figure size 432x288 with 1 Axes>"
            ]
          },
          "metadata": {
            "tags": []
          }
        }
      ]
    },
    {
      "cell_type": "code",
      "metadata": {
        "id": "Uf7YQNlDPDuU",
        "colab_type": "code",
        "outputId": "65542877-65a9-4051-de15-fc71a06128a1",
        "colab": {
          "base_uri": "https://localhost:8080/",
          "height": 300
        }
      },
      "source": [
        "# Sigmoid activation\n",
        "import math\n",
        "x = np.linspace(-10, 10, 100)\n",
        "z = 1/(1+np.exp(-x)) \n",
        "\n",
        "plt.plot(x, z)\n",
        "plt.xlabel(\"x\")\n",
        "plt.ylabel(\"sigmoid(x)\")"
      ],
      "execution_count": 0,
      "outputs": [
        {
          "output_type": "execute_result",
          "data": {
            "text/plain": [
              "Text(0, 0.5, 'sigmoid(x)')"
            ]
          },
          "metadata": {
            "tags": []
          },
          "execution_count": 27
        },
        {
          "output_type": "display_data",
          "data": {
            "image/png": "[encoded data removed]",
            "text/plain": [
              "<Figure size 432x288 with 1 Axes>"
            ]
          },
          "metadata": {
            "tags": []
          }
        }
      ]
    },
    {
      "cell_type": "markdown",
      "metadata": {
        "id": "QHpLGKXyWPsX",
        "colab_type": "text"
      },
      "source": [
        "## Element-wise additions\n",
        "\n",
        "Note that `relu` and tensor addition are both element-wise operations and hence can be parallelized.  The vectorized implementations exploit this characteristics for efficient implementations."
      ]
    },
    {
      "cell_type": "code",
      "metadata": {
        "id": "27MSePbL0krz",
        "colab_type": "code",
        "outputId": "2d1af8d7-dcdb-475e-ff74-656e19a0b570",
        "colab": {
          "base_uri": "https://localhost:8080/",
          "height": 119
        }
      },
      "source": [
        "z = np.dot(w, input) + b\n",
        "output = np.maximum(0, z)\n",
        "print (\"=========== z ============\")\n",
        "print (z)\n",
        "print (\"=========== output ============\")\n",
        "print (output)"
      ],
      "execution_count": 0,
      "outputs": [
        {
          "output_type": "stream",
          "text": [
            "=========== z ============\n",
            "[[-1.5  3.5]\n",
            " [-1.   6.5]]\n",
            "=========== output ============\n",
            "[[0.  3.5]\n",
            " [0.  6.5]]\n"
          ],
          "name": "stdout"
        }
      ]
    },
    {
      "cell_type": "markdown",
      "metadata": {
        "id": "hvO1qUJ6YglX",
        "colab_type": "text"
      },
      "source": [
        "## Broadcasting\n",
        "\n",
        "Employed to make two tensors involved in the operations compatible.  Concretely, let's say you want to add two tensors when their shaps differ:\n",
        "1. Axes are added to the smaller tensor to match the `ndim` of the larger tensor.  These axes are called `broadcast axes`.\n",
        "2. The smaller tensor is repeated alongside these new axes to match the full shape of the larger tensor.\n"
      ]
    },
    {
      "cell_type": "code",
      "metadata": {
        "id": "bemIxhL_YmRc",
        "colab_type": "code",
        "outputId": "94de1b2c-f61f-4b30-d868-c03fc60e9a06",
        "colab": {
          "base_uri": "https://localhost:8080/",
          "height": 87
        }
      },
      "source": [
        "x_1 = np.random.rand(32, 10)\n",
        "x_2 = np.random.rand(10,)\n",
        "\n",
        "print (\"Shape of x_1: \", x_1.shape)\n",
        "\n",
        "print (\"Original shape of x_2: \", x_2.shape)\n",
        "\n",
        "# Broadcasting\n",
        "# 1. Add an axis to match ndim of the larger tensor.\n",
        "x_2 = np.expand_dims(x_2, axis=0)\n",
        "print (\"Shape of x_2 after adding a broadcast axis: \", x_2.shape)\n",
        "\n",
        "# 2. Smaller tensor is repeated on the new axis.\n",
        "x_2 = np.repeat(x_2, 32, axis=0)\n",
        "print (\"Shape of x_2 after broadcasting: \", x_2.shape)"
      ],
      "execution_count": 0,
      "outputs": [
        {
          "output_type": "stream",
          "text": [
            "Shape of x_1:  (32, 10)\n",
            "Original shape of x_2:  (10,)\n",
            "Shape of x_2 after adding a broadcast axis:  (1, 10)\n",
            "Shape of x_2 after broadcasting:  (32, 10)\n"
          ],
          "name": "stdout"
        }
      ]
    },
    {
      "cell_type": "markdown",
      "metadata": {
        "id": "its_74o0k3EK",
        "colab_type": "text"
      },
      "source": [
        "In actual implementation, the entries are not repeated, but the algorithms implements virtual repeatition operations."
      ]
    },
    {
      "cell_type": "code",
      "metadata": {
        "id": "S2xDuVrVkgKG",
        "colab_type": "code",
        "outputId": "4e3942a1-c0d4-4d3d-90d2-c5bed0d2e7ac",
        "colab": {
          "base_uri": "https://localhost:8080/",
          "height": 34
        }
      },
      "source": [
        "#numpy implements broadcasting\n",
        "x_1 = np.random.rand(32, 10)\n",
        "x_2 = np.random.rand(10,)\n",
        "print((x_1 + x_2).shape)"
      ],
      "execution_count": 0,
      "outputs": [
        {
          "output_type": "stream",
          "text": [
            "(32, 10)\n"
          ],
          "name": "stdout"
        }
      ]
    },
    {
      "cell_type": "markdown",
      "metadata": {
        "id": "m5kkYDR7mQIw",
        "colab_type": "text"
      },
      "source": [
        "\n",
        "##  Tensor dot\n",
        "\n",
        "Tensor dot is not an elementwise operation."
      ]
    },
    {
      "cell_type": "code",
      "metadata": {
        "id": "EG2iXJgCmepb",
        "colab_type": "code",
        "outputId": "ce019b1a-de9c-4734-ab4c-4cacf84c71f2",
        "colab": {
          "base_uri": "https://localhost:8080/",
          "height": 34
        }
      },
      "source": [
        "def naive_vector_dot(x, y):\n",
        "  # compatibility check: both x and y are vectors\n",
        "  assert len(x.shape) == 1\n",
        "  assert len(y.shape) == 1\n",
        "  \n",
        "  # compatibility checks: vectors with the same number of elements\n",
        "  assert x.shape[0] == y.shape[0]\n",
        "  \n",
        "  z = 0.\n",
        "  \n",
        "  # performs element-wise product and then adds it up\n",
        "  for i in range(x.shape[0]):\n",
        "    z += x[i] * y[i]\n",
        "    \n",
        "  # returns scalar\n",
        "  return z\n",
        "\n",
        "print (naive_vector_dot(np.array([1, 2]), np.array([1, 2])))"
      ],
      "execution_count": 0,
      "outputs": [
        {
          "output_type": "stream",
          "text": [
            "5.0\n"
          ],
          "name": "stdout"
        }
      ]
    },
    {
      "cell_type": "markdown",
      "metadata": {
        "id": "gWyrhBnhneMl",
        "colab_type": "text"
      },
      "source": [
        "Matrix-vector dot product"
      ]
    },
    {
      "cell_type": "code",
      "metadata": {
        "id": "SPlMy-IRndwB",
        "colab_type": "code",
        "outputId": "c7f7f323-7a2b-499b-fc0d-9db4a1a40fbb",
        "colab": {
          "base_uri": "https://localhost:8080/",
          "height": 34
        }
      },
      "source": [
        "def naive_matrix_vector_dot(x, y):\n",
        "  # check: x is a matrix\n",
        "  assert len(x.shape) == 2\n",
        "  \n",
        "  # check: y is a vector\n",
        "  assert len(y.shape) == 1\n",
        "  \n",
        "  # check: make sure # of columns in x is equal to number of rows in y\n",
        "  assert x.shape[1] == y.shape[0]\n",
        "\n",
        "  z = np.zeros(x.shape[0])\n",
        "  for i in range(x.shape[0]):\n",
        "    z[i] = naive_vector_dot(x[i, :], y)\n",
        "  return z\n",
        "\n",
        "print (naive_matrix_vector_dot(np.array([[1, 2], [1,2]]), np.array([1, 2])))"
      ],
      "execution_count": 0,
      "outputs": [
        {
          "output_type": "stream",
          "text": [
            "[5. 5.]\n"
          ],
          "name": "stdout"
        }
      ]
    },
    {
      "cell_type": "markdown",
      "metadata": {
        "id": "oE-gR7Q1oR8k",
        "colab_type": "text"
      },
      "source": [
        "Note that as soon as one of the two tensors has an `ndim` greater than 1, `dot` is no longer symmetric, which is to say that `dot(x, y)` isn’t the same as `dot(y, x)`.\n",
        "\n",
        "Let's look at the Numpy implementation of dot."
      ]
    },
    {
      "cell_type": "code",
      "metadata": {
        "id": "E_glA8T1ovMX",
        "colab_type": "code",
        "outputId": "70252d83-39ff-40dd-e46f-b9accd678f6c",
        "colab": {
          "base_uri": "https://localhost:8080/",
          "height": 34
        }
      },
      "source": [
        "import numpy as np\n",
        "z = np.dot(np.array([1, 2]), np.array([1, 2]))\n",
        "print (z)"
      ],
      "execution_count": 0,
      "outputs": [
        {
          "output_type": "stream",
          "text": [
            "5\n"
          ],
          "name": "stdout"
        }
      ]
    },
    {
      "cell_type": "markdown",
      "metadata": {
        "id": "yq758wdRmd4U",
        "colab_type": "text"
      },
      "source": [
        "## Tensor Reshaping\n",
        "\n",
        "Reshaping is used to rearrange rows and columns of tensor to match the shape of target tensor.  The reshaped tensor has the same number of elements as the initial tensor. \n",
        "\n",
        "It is mainly used in data preprocessing."
      ]
    },
    {
      "cell_type": "code",
      "metadata": {
        "id": "pv5pv9t0p4Yn",
        "colab_type": "code",
        "outputId": "c4746039-9a70-4e4f-f489-3bba90138516",
        "colab": {
          "base_uri": "https://localhost:8080/",
          "height": 369
        }
      },
      "source": [
        "\n",
        "x = np.array([[0., 1.],\n",
        "              [2., 3.],\n",
        "              [4., 5.]])\n",
        "print (\"x =\", x)\n",
        "\n",
        "print(\"Shape of x:\", x.shape)\n",
        "print(x.shape)\n",
        "print (\"===========\")\n",
        "\n",
        "# Reshaping the tensor to a \n",
        "\n",
        "x = x.reshape((6, 1))\n",
        "print (\"x after reshaping to (6,1)\")\n",
        "print (\"x =\", x)\n",
        "\n",
        "print (\"New shape of x:\", x.shape)\n",
        "print (\"===========\")\n",
        "\n",
        "x = x.reshape((2, 3))\n",
        "print (\"x after reshaping to (2,3)\")\n",
        "print (\"x =\", x)\n",
        "\n",
        "print (\"New shape of x\", x.shape)\n",
        "print (\"===========\")"
      ],
      "execution_count": 0,
      "outputs": [
        {
          "output_type": "stream",
          "text": [
            "x = [[0. 1.]\n",
            " [2. 3.]\n",
            " [4. 5.]]\n",
            "Shape of x: (3, 2)\n",
            "(3, 2)\n",
            "===========\n",
            "x after reshaping to (6,1)\n",
            "x = [[0.]\n",
            " [1.]\n",
            " [2.]\n",
            " [3.]\n",
            " [4.]\n",
            " [5.]]\n",
            "New shape of x: (6, 1)\n",
            "===========\n",
            "x after reshaping to (2,3)\n",
            "x = [[0. 1. 2.]\n",
            " [3. 4. 5.]]\n",
            "New shape of x (2, 3)\n",
            "===========\n"
          ],
          "name": "stdout"
        }
      ]
    },
    {
      "cell_type": "markdown",
      "metadata": {
        "id": "Ox7sh1sdrcds",
        "colab_type": "text"
      },
      "source": [
        "Transposition is a special case of reshaping."
      ]
    },
    {
      "cell_type": "code",
      "metadata": {
        "id": "wmcF_xT4rgO5",
        "colab_type": "code",
        "outputId": "81cd90af-361d-4852-a05d-33d93fb22046",
        "colab": {
          "base_uri": "https://localhost:8080/",
          "height": 34
        }
      },
      "source": [
        "x = np.zeros((300, 20))\n",
        "x = np.transpose(x)\n",
        "print(x.shape)"
      ],
      "execution_count": 0,
      "outputs": [
        {
          "output_type": "stream",
          "text": [
            "(20, 300)\n"
          ],
          "name": "stdout"
        }
      ]
    },
    {
      "cell_type": "markdown",
      "metadata": {
        "id": "P2YSDjP5zjGr",
        "colab_type": "text"
      },
      "source": [
        "# Neural net training"
      ]
    },
    {
      "cell_type": "markdown",
      "metadata": {
        "id": "27XWilUisX58",
        "colab_type": "text"
      },
      "source": [
        "\n",
        "\n",
        "## Gradient based optimization\n",
        "\n",
        "Each layer in the neural network uses the following function to transform the input to the output:\n",
        "\n",
        "`output = relu(dot(W, input) + b)`\n",
        "\n",
        "In this expression, `W` and `b` are trainable parameter or weights of the layer.  They are called *kernels* and *bias* in the context of Keras API.\n",
        "\n",
        "We randomly initialize `W` and `b` to *small random values*.  Avoid initializing all parameters to 0 or any other numbers.  The training loop has the following steps:\n",
        "1. Draw a batch of training samples `x` and corresponding targets `y`.\n",
        "2. Run the network on `x` to obtain predictions `y_pred`.\n",
        "3. Compute the loss of the network on the batch, a measure of the mismatch\n",
        "between `y_pred` and `y`.\n",
        "4. Compute the gradient of the loss with respect to the network’s parameters (a\n",
        "backward pass).\n",
        "5. Move the parameters a little in the opposite direction from the gradient—for\n",
        "example `W -= step * gradient`—thus reducing the loss on the batch a bit\n"
      ]
    },
    {
      "cell_type": "markdown",
      "metadata": {
        "id": "nwevnNTmzcWK",
        "colab_type": "text"
      },
      "source": [
        "## Momentum based optimizers\n",
        "\n",
        "**Show the intuition of the approach with an analogy to the ball rolling down the slope.**\n",
        "\n",
        "Neural network loss function is full of lots of local minimas.  Once the algorithm reaches one of these local minimas, it is hard to come out of that.  In such cases, momentum based methods come to our rescue.\n",
        "\n",
        "The momentum based methods draws inspiration from physics.  Intuition based on the drawing: A ball rolling down the loss curve, if it has got sufficient momentum, it won't get stuck in local minima.  \n",
        "\n",
        "We use current slope (current  accelaration) and velocity based on past accelerations."
      ]
    },
    {
      "cell_type": "code",
      "metadata": {
        "id": "vRQIc7qk2YP2",
        "colab_type": "code",
        "colab": {}
      },
      "source": [
        "past_velocity = 0.\n",
        "\n",
        "# Constant momentum factor\n",
        "momentum = 0.1\n",
        "\n",
        "while loss > 0.01:\n",
        "  w, loss, gradient = get_current_parameters()\n",
        "  \n",
        "  velocity = past_velocity * momentum + learning_rate * gradient\n",
        "  \n",
        "  # Get the new value for w based on momentum.\n",
        "  w = w + momentum * velocity - learning_rate * gradient\n",
        "  \n",
        "  # Update velocity\n",
        "  past_velocity = velocity\n",
        "  update_parameter(w)"
      ],
      "execution_count": 0,
      "outputs": []
    },
    {
      "cell_type": "markdown",
      "metadata": {
        "id": "mBkGPr_j0QDk",
        "colab_type": "text"
      },
      "source": [
        "# Revisit the Hello World TF Model"
      ]
    },
    {
      "cell_type": "code",
      "metadata": {
        "id": "bNL-EC8XDELY",
        "colab_type": "code",
        "colab": {}
      },
      "source": [
        "x_train, x_test = x_train / 255.0, x_test / 255.0"
      ],
      "execution_count": 0,
      "outputs": []
    },
    {
      "cell_type": "code",
      "metadata": {
        "id": "tBJVFVpTDVeS",
        "colab_type": "code",
        "colab": {}
      },
      "source": [
        "print(\"Training Tensors\")\n",
        "print(\"=======================\")\n",
        "print(\"Number of dimensions in tensor: %d\"%x_train.ndim)\n",
        "print(\"Tensor shape: \", x_train.shape)\n",
        "print(\"Data type: %s\"%x_train.dtype)\n",
        "print(\"=======================\")\n",
        "print()\n",
        "print(\"Test Tensors\")\n",
        "print(\"=======================\")\n",
        "print(\"Number of dimensions in tensor: %d\"%x_test.ndim)\n",
        "print(\"Tensor shape: \", x_test.shape)\n",
        "print(\"Data type: %s\"%x_test.dtype)\n"
      ],
      "execution_count": 0,
      "outputs": []
    },
    {
      "cell_type": "markdown",
      "metadata": {
        "id": "GfeL_A-DDGzw",
        "colab_type": "text"
      },
      "source": [
        "Build the tf.keras.Sequential model by stacking layers. Choose an optimizer and loss function for training:"
      ]
    },
    {
      "cell_type": "code",
      "metadata": {
        "id": "2nJ5cNaLDEvC",
        "colab_type": "code",
        "colab": {}
      },
      "source": [
        "model = tf.keras.models.Sequential([\n",
        "  tf.keras.layers.Flatten(input_shape=(28, 28)),\n",
        "  tf.keras.layers.Dense(128, activation='relu'),\n",
        "  tf.keras.layers.Dropout(0.2),\n",
        "  tf.keras.layers.Dense(10, activation='softmax')\n",
        "])"
      ],
      "execution_count": 0,
      "outputs": []
    },
    {
      "cell_type": "markdown",
      "metadata": {
        "id": "ap9Em4mLERJd",
        "colab_type": "text"
      },
      "source": [
        "Now you understand that this network consists of a chain of two Dense layers, that\n",
        "each layer applies a few simple tensor operations to the input data, and that these\n",
        "operations involve weight tensors. Weight tensors, which are attributes of the layers,\n",
        "are where the knowledge of the network persists."
      ]
    },
    {
      "cell_type": "code",
      "metadata": {
        "id": "ZD5CxZloHZx1",
        "colab_type": "code",
        "colab": {}
      },
      "source": [
        "model.summary()"
      ],
      "execution_count": 0,
      "outputs": []
    },
    {
      "cell_type": "code",
      "metadata": {
        "id": "k3GBMdrsER8M",
        "colab_type": "code",
        "colab": {}
      },
      "source": [
        "model.compile(optimizer='adam',\n",
        "              loss='sparse_categorical_crossentropy',\n",
        "              metrics=['accuracy'])"
      ],
      "execution_count": 0,
      "outputs": []
    },
    {
      "cell_type": "markdown",
      "metadata": {
        "id": "VYjyQzvpEU4x",
        "colab_type": "text"
      },
      "source": [
        "Now you understand that \n",
        "* `sparse_categorical_crossentropy` is the loss function that’s used as a feedback signal for learning the weight tensors,  and which the training phase will attempt to minimize.   We used this loss function since our output are integers between 0 to 9.\n",
        "* This reduction of the loss happens via minibatch stochastic gradient descent.  \n",
        "* The exact rules governing a specific use of gradient descent are defined by the `adam` optimizer passed as the first argument."
      ]
    },
    {
      "cell_type": "markdown",
      "metadata": {
        "id": "kTEM9uM6DI3T",
        "colab_type": "text"
      },
      "source": [
        "Train and evaluate the model:"
      ]
    },
    {
      "cell_type": "code",
      "metadata": {
        "id": "ZjRh3KTlDLkb",
        "colab_type": "code",
        "colab": {}
      },
      "source": [
        "model.fit(x_train, y_train, epochs=5)"
      ],
      "execution_count": 0,
      "outputs": []
    },
    {
      "cell_type": "markdown",
      "metadata": {
        "id": "fOnzfv_OFXU_",
        "colab_type": "text"
      },
      "source": [
        "## TODO: make sure the batch size is accurate here.\n",
        "\n",
        "Now you understand what happens when you call fit: \n",
        "* The network will start to iterate on the training data in mini-batches of 128 samples, 5 times over (each iteration over\n",
        "all the training data is called an epoch). \n",
        "* At each iteration, the network will compute the gradients of the weights with regard to the loss on the batch, and update the weights\n",
        "accordingly.\n",
        "* After these 5 epochs, the network will have performed 2,345 gradient updates (469 per epoch), and the loss of the network will be \n",
        "sufficiently low that the network will be capable of classifying handwritten digits with high accuracy."
      ]
    },
    {
      "cell_type": "code",
      "metadata": {
        "id": "7XwyFONSJrrh",
        "colab_type": "code",
        "colab": {}
      },
      "source": [
        "# todo: show how prediction works on a single image and a batch of images"
      ],
      "execution_count": 0,
      "outputs": []
    },
    {
      "cell_type": "markdown",
      "metadata": {
        "id": "nPQpLOsg0V0c",
        "colab_type": "text"
      },
      "source": [
        "# Summary\n",
        "\n",
        "In this module,  we studied mathematical foundations of deep learning.  You now have understanding of \n",
        "- Tensors\n",
        "- Input data representation with tensors\n",
        "- Data batches in tensors\n",
        "- Key operations in neural network and their low level details\n",
        "- Neural network training"
      ]
    }
  ]
}