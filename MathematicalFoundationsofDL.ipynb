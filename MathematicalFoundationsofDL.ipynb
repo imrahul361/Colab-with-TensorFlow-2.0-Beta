{
  "nbformat": 4,
  "nbformat_minor": 0,
  "metadata": {
    "colab": {
      "name": "MathematicalFoundationsofDL.ipynb",
      "version": "0.3.2",
      "provenance": [],
      "collapsed_sections": [],
      "include_colab_link": true
    },
    "kernelspec": {
      "name": "python3",
      "display_name": "Python 3"
    }
  },
  "cells": [
    {
      "cell_type": "markdown",
      "metadata": {
        "id": "view-in-github",
        "colab_type": "text"
      },
      "source": [
        "<a href=\"https://colab.research.google.com/github/imrahul361/Colab-with-TensorFlow-2.0-Beta/blob/master/MathematicalFoundationsofDL.ipynb\" target=\"_parent\"><img src=\"https://colab.research.google.com/assets/colab-badge.svg\" alt=\"Open In Colab\"/></a>"
      ]
    },
    {
      "cell_type": "code",
      "metadata": {
        "id": "XwtGfYX3OVZG",
        "colab_type": "code",
        "colab": {}
      },
      "source": [
        "import numpy as np"
      ],
      "execution_count": 0,
      "outputs": []
    },
    {
      "cell_type": "markdown",
      "metadata": {
        "id": "AMhumUOIPrAT",
        "colab_type": "text"
      },
      "source": [
        "# **Scalar** **(0D Tensors)**"
      ]
    },
    {
      "cell_type": "code",
      "metadata": {
        "id": "RwhqhexSP8xc",
        "colab_type": "code",
        "colab": {
          "base_uri": "https://localhost:8080/",
          "height": 34
        },
        "outputId": "d3106549-bd3b-4d72-9231-2dd46c0d8b66"
      },
      "source": [
        "x =np.array(10)\n",
        "x"
      ],
      "execution_count": 3,
      "outputs": [
        {
          "output_type": "execute_result",
          "data": {
            "text/plain": [
              "array(10)"
            ]
          },
          "metadata": {
            "tags": []
          },
          "execution_count": 3
        }
      ]
    },
    {
      "cell_type": "code",
      "metadata": {
        "id": "3Aa625YyP_9J",
        "colab_type": "code",
        "colab": {
          "base_uri": "https://localhost:8080/",
          "height": 34
        },
        "outputId": "445db087-5e4a-45d2-91ec-e3c68af23ad0"
      },
      "source": [
        "x.shape"
      ],
      "execution_count": 4,
      "outputs": [
        {
          "output_type": "execute_result",
          "data": {
            "text/plain": [
              "()"
            ]
          },
          "metadata": {
            "tags": []
          },
          "execution_count": 4
        }
      ]
    },
    {
      "cell_type": "code",
      "metadata": {
        "id": "4jNLS-3fQCjH",
        "colab_type": "code",
        "colab": {
          "base_uri": "https://localhost:8080/",
          "height": 34
        },
        "outputId": "6e9632d5-a927-4bd1-e3c0-676573e50ec5"
      },
      "source": [
        "x.ndim"
      ],
      "execution_count": 5,
      "outputs": [
        {
          "output_type": "execute_result",
          "data": {
            "text/plain": [
              "0"
            ]
          },
          "metadata": {
            "tags": []
          },
          "execution_count": 5
        }
      ]
    },
    {
      "cell_type": "code",
      "metadata": {
        "id": "tPU6jA_bQEAT",
        "colab_type": "code",
        "colab": {
          "base_uri": "https://localhost:8080/",
          "height": 34
        },
        "outputId": "5ab2aaa3-e024-4e31-8cb8-fef0d4051747"
      },
      "source": [
        "x.dtype"
      ],
      "execution_count": 6,
      "outputs": [
        {
          "output_type": "execute_result",
          "data": {
            "text/plain": [
              "dtype('int64')"
            ]
          },
          "metadata": {
            "tags": []
          },
          "execution_count": 6
        }
      ]
    },
    {
      "cell_type": "markdown",
      "metadata": {
        "id": "3r2sL4GaQHTF",
        "colab_type": "text"
      },
      "source": [
        "# **Vectors (1D Tensors)**"
      ]
    },
    {
      "cell_type": "code",
      "metadata": {
        "id": "bn4rrqE5QFUF",
        "colab_type": "code",
        "colab": {
          "base_uri": "https://localhost:8080/",
          "height": 34
        },
        "outputId": "44699011-9b6d-4d71-d9a9-c359ddfc601c"
      },
      "source": [
        "x = np.array([4,2,3,5])\n",
        "x"
      ],
      "execution_count": 7,
      "outputs": [
        {
          "output_type": "execute_result",
          "data": {
            "text/plain": [
              "array([4, 2, 3, 5])"
            ]
          },
          "metadata": {
            "tags": []
          },
          "execution_count": 7
        }
      ]
    },
    {
      "cell_type": "code",
      "metadata": {
        "id": "ouOUSGATQUh4",
        "colab_type": "code",
        "colab": {
          "base_uri": "https://localhost:8080/",
          "height": 34
        },
        "outputId": "1b022f72-6b8b-4565-e383-65a95cb5d221"
      },
      "source": [
        "x.shape"
      ],
      "execution_count": 8,
      "outputs": [
        {
          "output_type": "execute_result",
          "data": {
            "text/plain": [
              "(4,)"
            ]
          },
          "metadata": {
            "tags": []
          },
          "execution_count": 8
        }
      ]
    },
    {
      "cell_type": "code",
      "metadata": {
        "id": "ir9Z3XImQam3",
        "colab_type": "code",
        "colab": {
          "base_uri": "https://localhost:8080/",
          "height": 34
        },
        "outputId": "8f37ed15-d088-4a5c-c987-cf9e3f836b7d"
      },
      "source": [
        "x.ndim"
      ],
      "execution_count": 9,
      "outputs": [
        {
          "output_type": "execute_result",
          "data": {
            "text/plain": [
              "1"
            ]
          },
          "metadata": {
            "tags": []
          },
          "execution_count": 9
        }
      ]
    },
    {
      "cell_type": "markdown",
      "metadata": {
        "id": "o2NFfgjdQcdf",
        "colab_type": "text"
      },
      "source": [
        "# **Matrices (2D Tensors)**"
      ]
    },
    {
      "cell_type": "code",
      "metadata": {
        "id": "t9-JwpG9Q3cw",
        "colab_type": "code",
        "colab": {
          "base_uri": "https://localhost:8080/",
          "height": 68
        },
        "outputId": "5fedde17-fcab-4c70-feff-f25c79f62059"
      },
      "source": [
        "x = np.array([[1,2,3],\n",
        "            [4,5,6],\n",
        "            [7,8,9]])\n",
        "x"
      ],
      "execution_count": 10,
      "outputs": [
        {
          "output_type": "execute_result",
          "data": {
            "text/plain": [
              "array([[1, 2, 3],\n",
              "       [4, 5, 6],\n",
              "       [7, 8, 9]])"
            ]
          },
          "metadata": {
            "tags": []
          },
          "execution_count": 10
        }
      ]
    },
    {
      "cell_type": "code",
      "metadata": {
        "id": "xTuwb8eUQ_Xa",
        "colab_type": "code",
        "colab": {
          "base_uri": "https://localhost:8080/",
          "height": 34
        },
        "outputId": "600502d3-af14-4a32-b37b-af4003e66140"
      },
      "source": [
        "x.shape\n"
      ],
      "execution_count": 11,
      "outputs": [
        {
          "output_type": "execute_result",
          "data": {
            "text/plain": [
              "(3, 3)"
            ]
          },
          "metadata": {
            "tags": []
          },
          "execution_count": 11
        }
      ]
    },
    {
      "cell_type": "code",
      "metadata": {
        "id": "UP2x_qusREvm",
        "colab_type": "code",
        "colab": {
          "base_uri": "https://localhost:8080/",
          "height": 34
        },
        "outputId": "fb0030ff-2f65-4cd1-f3c9-6781ea0132ba"
      },
      "source": [
        "x.ndim"
      ],
      "execution_count": 12,
      "outputs": [
        {
          "output_type": "execute_result",
          "data": {
            "text/plain": [
              "2"
            ]
          },
          "metadata": {
            "tags": []
          },
          "execution_count": 12
        }
      ]
    },
    {
      "cell_type": "markdown",
      "metadata": {
        "id": "MvPQmG6JRHgh",
        "colab_type": "text"
      },
      "source": [
        "# **3D** **Tensors**"
      ]
    },
    {
      "cell_type": "code",
      "metadata": {
        "id": "3AnhHEC2RF7U",
        "colab_type": "code",
        "colab": {
          "base_uri": "https://localhost:8080/",
          "height": 204
        },
        "outputId": "cfa2032f-a13d-4883-90f1-50adbb1e422e"
      },
      "source": [
        "x= np.array([[[1,2,3],\n",
        "           [4,5,6],\n",
        "             [7,8,9]],\n",
        "             [[1,2,3],\n",
        "           [4,5,6],\n",
        "             [7,8,9]],\n",
        "             [[1,2,3],\n",
        "           [4,5,6],\n",
        "             [7,8,9]]])\n",
        "x"
      ],
      "execution_count": 13,
      "outputs": [
        {
          "output_type": "execute_result",
          "data": {
            "text/plain": [
              "array([[[1, 2, 3],\n",
              "        [4, 5, 6],\n",
              "        [7, 8, 9]],\n",
              "\n",
              "       [[1, 2, 3],\n",
              "        [4, 5, 6],\n",
              "        [7, 8, 9]],\n",
              "\n",
              "       [[1, 2, 3],\n",
              "        [4, 5, 6],\n",
              "        [7, 8, 9]]])"
            ]
          },
          "metadata": {
            "tags": []
          },
          "execution_count": 13
        }
      ]
    },
    {
      "cell_type": "code",
      "metadata": {
        "id": "zYopZwZHRnJU",
        "colab_type": "code",
        "colab": {
          "base_uri": "https://localhost:8080/",
          "height": 34
        },
        "outputId": "2bfa05a3-beff-4235-ec9f-26f58bd24a3d"
      },
      "source": [
        "x.shape"
      ],
      "execution_count": 14,
      "outputs": [
        {
          "output_type": "execute_result",
          "data": {
            "text/plain": [
              "(3, 3, 3)"
            ]
          },
          "metadata": {
            "tags": []
          },
          "execution_count": 14
        }
      ]
    },
    {
      "cell_type": "code",
      "metadata": {
        "id": "j9xpgh-xRpeV",
        "colab_type": "code",
        "colab": {
          "base_uri": "https://localhost:8080/",
          "height": 34
        },
        "outputId": "3a020aa0-ceb9-47e3-85ca-94155e320a50"
      },
      "source": [
        "x.ndim"
      ],
      "execution_count": 15,
      "outputs": [
        {
          "output_type": "execute_result",
          "data": {
            "text/plain": [
              "3"
            ]
          },
          "metadata": {
            "tags": []
          },
          "execution_count": 15
        }
      ]
    },
    {
      "cell_type": "code",
      "metadata": {
        "id": "Dek7MHsmRqmM",
        "colab_type": "code",
        "colab": {
          "base_uri": "https://localhost:8080/",
          "height": 34
        },
        "outputId": "aa49d7a3-dfb5-4d97-af76-1c41a9b610a3"
      },
      "source": [
        "x.dtype"
      ],
      "execution_count": 16,
      "outputs": [
        {
          "output_type": "execute_result",
          "data": {
            "text/plain": [
              "dtype('int64')"
            ]
          },
          "metadata": {
            "tags": []
          },
          "execution_count": 16
        }
      ]
    },
    {
      "cell_type": "code",
      "metadata": {
        "id": "kvzEQvHkR-iZ",
        "colab_type": "code",
        "colab": {}
      },
      "source": [
        ""
      ],
      "execution_count": 0,
      "outputs": []
    },
    {
      "cell_type": "markdown",
      "metadata": {
        "id": "Fb1bjMndSAqz",
        "colab_type": "text"
      },
      "source": [
        "# Tensor in MNIST datasets"
      ]
    },
    {
      "cell_type": "code",
      "metadata": {
        "id": "MCzLxVsPSG3x",
        "colab_type": "code",
        "colab": {
          "base_uri": "https://localhost:8080/",
          "height": 564
        },
        "outputId": "e2a0085f-1be9-409e-cb3d-6ea34b1c05eb"
      },
      "source": [
        "from __future__ import absolute_import, division, print_function, unicode_literals\n",
        "!pip install tensorflow==2.0.0-beta1\n",
        "import tensorflow as tf"
      ],
      "execution_count": 17,
      "outputs": [
        {
          "output_type": "stream",
          "text": [
            "Collecting tensorflow==2.0.0-beta1\n",
            "\u001b[?25l  Downloading https://files.pythonhosted.org/packages/29/6c/2c9a5c4d095c63c2fb37d20def0e4f92685f7aee9243d6aae25862694fd1/tensorflow-2.0.0b1-cp36-cp36m-manylinux1_x86_64.whl (87.9MB)\n",
            "\u001b[K     |████████████████████████████████| 87.9MB 1.3MB/s \n",
            "\u001b[?25hRequirement already satisfied: absl-py>=0.7.0 in /usr/local/lib/python3.6/dist-packages (from tensorflow==2.0.0-beta1) (0.8.0)\n",
            "Requirement already satisfied: keras-applications>=1.0.6 in /usr/local/lib/python3.6/dist-packages (from tensorflow==2.0.0-beta1) (1.0.8)\n",
            "Requirement already satisfied: astor>=0.6.0 in /usr/local/lib/python3.6/dist-packages (from tensorflow==2.0.0-beta1) (0.8.0)\n",
            "Requirement already satisfied: grpcio>=1.8.6 in /usr/local/lib/python3.6/dist-packages (from tensorflow==2.0.0-beta1) (1.15.0)\n",
            "Requirement already satisfied: numpy<2.0,>=1.14.5 in /usr/local/lib/python3.6/dist-packages (from tensorflow==2.0.0-beta1) (1.16.5)\n",
            "Requirement already satisfied: termcolor>=1.1.0 in /usr/local/lib/python3.6/dist-packages (from tensorflow==2.0.0-beta1) (1.1.0)\n",
            "Requirement already satisfied: keras-preprocessing>=1.0.5 in /usr/local/lib/python3.6/dist-packages (from tensorflow==2.0.0-beta1) (1.1.0)\n",
            "Requirement already satisfied: protobuf>=3.6.1 in /usr/local/lib/python3.6/dist-packages (from tensorflow==2.0.0-beta1) (3.7.1)\n",
            "Requirement already satisfied: wheel>=0.26 in /usr/local/lib/python3.6/dist-packages (from tensorflow==2.0.0-beta1) (0.33.6)\n",
            "Collecting tb-nightly<1.14.0a20190604,>=1.14.0a20190603 (from tensorflow==2.0.0-beta1)\n",
            "\u001b[?25l  Downloading https://files.pythonhosted.org/packages/a4/96/571b875cd81dda9d5dfa1422a4f9d749e67c0a8d4f4f0b33a4e5f5f35e27/tb_nightly-1.14.0a20190603-py3-none-any.whl (3.1MB)\n",
            "\u001b[K     |████████████████████████████████| 3.1MB 38.2MB/s \n",
            "\u001b[?25hRequirement already satisfied: wrapt>=1.11.1 in /usr/local/lib/python3.6/dist-packages (from tensorflow==2.0.0-beta1) (1.11.2)\n",
            "Collecting tf-estimator-nightly<1.14.0.dev2019060502,>=1.14.0.dev2019060501 (from tensorflow==2.0.0-beta1)\n",
            "\u001b[?25l  Downloading https://files.pythonhosted.org/packages/32/dd/99c47dd007dcf10d63fd895611b063732646f23059c618a373e85019eb0e/tf_estimator_nightly-1.14.0.dev2019060501-py2.py3-none-any.whl (496kB)\n",
            "\u001b[K     |████████████████████████████████| 501kB 44.6MB/s \n",
            "\u001b[?25hRequirement already satisfied: gast>=0.2.0 in /usr/local/lib/python3.6/dist-packages (from tensorflow==2.0.0-beta1) (0.2.2)\n",
            "Requirement already satisfied: six>=1.10.0 in /usr/local/lib/python3.6/dist-packages (from tensorflow==2.0.0-beta1) (1.12.0)\n",
            "Requirement already satisfied: google-pasta>=0.1.6 in /usr/local/lib/python3.6/dist-packages (from tensorflow==2.0.0-beta1) (0.1.7)\n",
            "Requirement already satisfied: h5py in /usr/local/lib/python3.6/dist-packages (from keras-applications>=1.0.6->tensorflow==2.0.0-beta1) (2.8.0)\n",
            "Requirement already satisfied: setuptools in /usr/local/lib/python3.6/dist-packages (from protobuf>=3.6.1->tensorflow==2.0.0-beta1) (41.2.0)\n",
            "Requirement already satisfied: werkzeug>=0.11.15 in /usr/local/lib/python3.6/dist-packages (from tb-nightly<1.14.0a20190604,>=1.14.0a20190603->tensorflow==2.0.0-beta1) (0.15.6)\n",
            "Requirement already satisfied: markdown>=2.6.8 in /usr/local/lib/python3.6/dist-packages (from tb-nightly<1.14.0a20190604,>=1.14.0a20190603->tensorflow==2.0.0-beta1) (3.1.1)\n",
            "Installing collected packages: tb-nightly, tf-estimator-nightly, tensorflow\n",
            "  Found existing installation: tensorflow 1.14.0\n",
            "    Uninstalling tensorflow-1.14.0:\n",
            "      Successfully uninstalled tensorflow-1.14.0\n",
            "Successfully installed tb-nightly-1.14.0a20190603 tensorflow-2.0.0b1 tf-estimator-nightly-1.14.0.dev2019060501\n"
          ],
          "name": "stdout"
        }
      ]
    },
    {
      "cell_type": "code",
      "metadata": {
        "id": "UqJRich8SrTH",
        "colab_type": "code",
        "colab": {
          "base_uri": "https://localhost:8080/",
          "height": 51
        },
        "outputId": "226ca35b-240a-4375-d04c-ba3baf39235a"
      },
      "source": [
        "mnist = tf.keras.datasets.mnist\n",
        "(x_train, y_train),(x_test, y_test) = mnist.load_data()"
      ],
      "execution_count": 18,
      "outputs": [
        {
          "output_type": "stream",
          "text": [
            "Downloading data from https://storage.googleapis.com/tensorflow/tf-keras-datasets/mnist.npz\n",
            "11493376/11490434 [==============================] - 0s 0us/step\n"
          ],
          "name": "stdout"
        }
      ]
    },
    {
      "cell_type": "markdown",
      "metadata": {
        "id": "IIBGT58fT11B",
        "colab_type": "text"
      },
      "source": [
        " ***Training set Attributes***\n",
        "\n"
      ]
    },
    {
      "cell_type": "code",
      "metadata": {
        "id": "7ZN5sf3rTCRn",
        "colab_type": "code",
        "colab": {
          "base_uri": "https://localhost:8080/",
          "height": 68
        },
        "outputId": "d4b3d3a8-f09e-4adf-f0c9-0e19dc54ccd3"
      },
      "source": [
        "print(\"Number of axes in tensor = %d\" %x_train.ndim)\n",
        "print(\"Shape of a tensor:\", x_train.shape)\n",
        "print(\"Data type of tensor elements: %s\"%x_train.dtype)"
      ],
      "execution_count": 19,
      "outputs": [
        {
          "output_type": "stream",
          "text": [
            "Number of axes in tensor = 3\n",
            "Shape of a tensor: (60000, 28, 28)\n",
            "Data type of tensor elements: uint8\n"
          ],
          "name": "stdout"
        }
      ]
    },
    {
      "cell_type": "code",
      "metadata": {
        "id": "6e7B8wA8TkCl",
        "colab_type": "code",
        "colab": {
          "base_uri": "https://localhost:8080/",
          "height": 68
        },
        "outputId": "d0fdf217-184c-42d0-9f07-7f2c44404286"
      },
      "source": [
        "print(\"Number of axes in tensor = %d\" %y_train.ndim)\n",
        "print(\"Shape of a tensor:\", y_train.shape)\n",
        "print(\"Data type of tensor elements: %s\"%y_train.dtype)"
      ],
      "execution_count": 20,
      "outputs": [
        {
          "output_type": "stream",
          "text": [
            "Number of axes in tensor = 1\n",
            "Shape of a tensor: (60000,)\n",
            "Data type of tensor elements: uint8\n"
          ],
          "name": "stdout"
        }
      ]
    },
    {
      "cell_type": "markdown",
      "metadata": {
        "id": "iYDpM3zzTuSI",
        "colab_type": "text"
      },
      "source": [
        "***Test set Attributes***"
      ]
    },
    {
      "cell_type": "code",
      "metadata": {
        "id": "z_imBJzQUNXZ",
        "colab_type": "code",
        "colab": {
          "base_uri": "https://localhost:8080/",
          "height": 68
        },
        "outputId": "50346351-db9f-4384-e335-732fad5fe946"
      },
      "source": [
        "print(\"Number of axes in tensor = %d\" %x_test.ndim)\n",
        "print(\"Shape of a tensor:\", x_test.shape)\n",
        "print(\"Data type of tensor elements: %s\"%x_test.dtype)"
      ],
      "execution_count": 21,
      "outputs": [
        {
          "output_type": "stream",
          "text": [
            "Number of axes in tensor = 3\n",
            "Shape of a tensor: (10000, 28, 28)\n",
            "Data type of tensor elements: uint8\n"
          ],
          "name": "stdout"
        }
      ]
    },
    {
      "cell_type": "code",
      "metadata": {
        "id": "DgEcVcY7USHz",
        "colab_type": "code",
        "colab": {
          "base_uri": "https://localhost:8080/",
          "height": 68
        },
        "outputId": "642da865-83fd-44fe-841a-729df00a4e2c"
      },
      "source": [
        "print(\"Number of axes in tensor = %d\" %y_test.ndim)\n",
        "print(\"Shape of a tensor:\", y_test.shape)\n",
        "print(\"Data type of tensor elements: %s\"%y_test.dtype)"
      ],
      "execution_count": 22,
      "outputs": [
        {
          "output_type": "stream",
          "text": [
            "Number of axes in tensor = 1\n",
            "Shape of a tensor: (10000,)\n",
            "Data type of tensor elements: uint8\n"
          ],
          "name": "stdout"
        }
      ]
    },
    {
      "cell_type": "markdown",
      "metadata": {
        "id": "PqssAD-zUWJF",
        "colab_type": "text"
      },
      "source": [
        "# Data Selection (Tensor Slicing)"
      ]
    },
    {
      "cell_type": "code",
      "metadata": {
        "id": "oJLYFW-vUhFl",
        "colab_type": "code",
        "colab": {
          "base_uri": "https://localhost:8080/",
          "height": 1000
        },
        "outputId": "92fab656-55a4-46dc-870e-51b5e86574d7"
      },
      "source": [
        "x_1 = x_train[1]\n",
        "x_1"
      ],
      "execution_count": 23,
      "outputs": [
        {
          "output_type": "execute_result",
          "data": {
            "text/plain": [
              "array([[  0,   0,   0,   0,   0,   0,   0,   0,   0,   0,   0,   0,   0,\n",
              "          0,   0,   0,   0,   0,   0,   0,   0,   0,   0,   0,   0,   0,\n",
              "          0,   0],\n",
              "       [  0,   0,   0,   0,   0,   0,   0,   0,   0,   0,   0,   0,   0,\n",
              "          0,   0,   0,   0,   0,   0,   0,   0,   0,   0,   0,   0,   0,\n",
              "          0,   0],\n",
              "       [  0,   0,   0,   0,   0,   0,   0,   0,   0,   0,   0,   0,   0,\n",
              "          0,   0,   0,   0,   0,   0,   0,   0,   0,   0,   0,   0,   0,\n",
              "          0,   0],\n",
              "       [  0,   0,   0,   0,   0,   0,   0,   0,   0,   0,   0,   0,   0,\n",
              "          0,   0,   0,   0,   0,   0,   0,   0,   0,   0,   0,   0,   0,\n",
              "          0,   0],\n",
              "       [  0,   0,   0,   0,   0,   0,   0,   0,   0,   0,   0,   0,   0,\n",
              "          0,   0,  51, 159, 253, 159,  50,   0,   0,   0,   0,   0,   0,\n",
              "          0,   0],\n",
              "       [  0,   0,   0,   0,   0,   0,   0,   0,   0,   0,   0,   0,   0,\n",
              "          0,  48, 238, 252, 252, 252, 237,   0,   0,   0,   0,   0,   0,\n",
              "          0,   0],\n",
              "       [  0,   0,   0,   0,   0,   0,   0,   0,   0,   0,   0,   0,   0,\n",
              "         54, 227, 253, 252, 239, 233, 252,  57,   6,   0,   0,   0,   0,\n",
              "          0,   0],\n",
              "       [  0,   0,   0,   0,   0,   0,   0,   0,   0,   0,   0,  10,  60,\n",
              "        224, 252, 253, 252, 202,  84, 252, 253, 122,   0,   0,   0,   0,\n",
              "          0,   0],\n",
              "       [  0,   0,   0,   0,   0,   0,   0,   0,   0,   0,   0, 163, 252,\n",
              "        252, 252, 253, 252, 252,  96, 189, 253, 167,   0,   0,   0,   0,\n",
              "          0,   0],\n",
              "       [  0,   0,   0,   0,   0,   0,   0,   0,   0,   0,  51, 238, 253,\n",
              "        253, 190, 114, 253, 228,  47,  79, 255, 168,   0,   0,   0,   0,\n",
              "          0,   0],\n",
              "       [  0,   0,   0,   0,   0,   0,   0,   0,   0,  48, 238, 252, 252,\n",
              "        179,  12,  75, 121,  21,   0,   0, 253, 243,  50,   0,   0,   0,\n",
              "          0,   0],\n",
              "       [  0,   0,   0,   0,   0,   0,   0,   0,  38, 165, 253, 233, 208,\n",
              "         84,   0,   0,   0,   0,   0,   0, 253, 252, 165,   0,   0,   0,\n",
              "          0,   0],\n",
              "       [  0,   0,   0,   0,   0,   0,   0,   7, 178, 252, 240,  71,  19,\n",
              "         28,   0,   0,   0,   0,   0,   0, 253, 252, 195,   0,   0,   0,\n",
              "          0,   0],\n",
              "       [  0,   0,   0,   0,   0,   0,   0,  57, 252, 252,  63,   0,   0,\n",
              "          0,   0,   0,   0,   0,   0,   0, 253, 252, 195,   0,   0,   0,\n",
              "          0,   0],\n",
              "       [  0,   0,   0,   0,   0,   0,   0, 198, 253, 190,   0,   0,   0,\n",
              "          0,   0,   0,   0,   0,   0,   0, 255, 253, 196,   0,   0,   0,\n",
              "          0,   0],\n",
              "       [  0,   0,   0,   0,   0,   0,  76, 246, 252, 112,   0,   0,   0,\n",
              "          0,   0,   0,   0,   0,   0,   0, 253, 252, 148,   0,   0,   0,\n",
              "          0,   0],\n",
              "       [  0,   0,   0,   0,   0,   0,  85, 252, 230,  25,   0,   0,   0,\n",
              "          0,   0,   0,   0,   0,   7, 135, 253, 186,  12,   0,   0,   0,\n",
              "          0,   0],\n",
              "       [  0,   0,   0,   0,   0,   0,  85, 252, 223,   0,   0,   0,   0,\n",
              "          0,   0,   0,   0,   7, 131, 252, 225,  71,   0,   0,   0,   0,\n",
              "          0,   0],\n",
              "       [  0,   0,   0,   0,   0,   0,  85, 252, 145,   0,   0,   0,   0,\n",
              "          0,   0,   0,  48, 165, 252, 173,   0,   0,   0,   0,   0,   0,\n",
              "          0,   0],\n",
              "       [  0,   0,   0,   0,   0,   0,  86, 253, 225,   0,   0,   0,   0,\n",
              "          0,   0, 114, 238, 253, 162,   0,   0,   0,   0,   0,   0,   0,\n",
              "          0,   0],\n",
              "       [  0,   0,   0,   0,   0,   0,  85, 252, 249, 146,  48,  29,  85,\n",
              "        178, 225, 253, 223, 167,  56,   0,   0,   0,   0,   0,   0,   0,\n",
              "          0,   0],\n",
              "       [  0,   0,   0,   0,   0,   0,  85, 252, 252, 252, 229, 215, 252,\n",
              "        252, 252, 196, 130,   0,   0,   0,   0,   0,   0,   0,   0,   0,\n",
              "          0,   0],\n",
              "       [  0,   0,   0,   0,   0,   0,  28, 199, 252, 252, 253, 252, 252,\n",
              "        233, 145,   0,   0,   0,   0,   0,   0,   0,   0,   0,   0,   0,\n",
              "          0,   0],\n",
              "       [  0,   0,   0,   0,   0,   0,   0,  25, 128, 252, 253, 252, 141,\n",
              "         37,   0,   0,   0,   0,   0,   0,   0,   0,   0,   0,   0,   0,\n",
              "          0,   0],\n",
              "       [  0,   0,   0,   0,   0,   0,   0,   0,   0,   0,   0,   0,   0,\n",
              "          0,   0,   0,   0,   0,   0,   0,   0,   0,   0,   0,   0,   0,\n",
              "          0,   0],\n",
              "       [  0,   0,   0,   0,   0,   0,   0,   0,   0,   0,   0,   0,   0,\n",
              "          0,   0,   0,   0,   0,   0,   0,   0,   0,   0,   0,   0,   0,\n",
              "          0,   0],\n",
              "       [  0,   0,   0,   0,   0,   0,   0,   0,   0,   0,   0,   0,   0,\n",
              "          0,   0,   0,   0,   0,   0,   0,   0,   0,   0,   0,   0,   0,\n",
              "          0,   0],\n",
              "       [  0,   0,   0,   0,   0,   0,   0,   0,   0,   0,   0,   0,   0,\n",
              "          0,   0,   0,   0,   0,   0,   0,   0,   0,   0,   0,   0,   0,\n",
              "          0,   0]], dtype=uint8)"
            ]
          },
          "metadata": {
            "tags": []
          },
          "execution_count": 23
        }
      ]
    },
    {
      "cell_type": "code",
      "metadata": {
        "id": "vx9gZjKYUj3Q",
        "colab_type": "code",
        "colab": {
          "base_uri": "https://localhost:8080/",
          "height": 269
        },
        "outputId": "fd2c2810-b21a-4021-9603-e4fe32e8ed40"
      },
      "source": [
        "#let's display first image from the training set with Matplotlib\n",
        "import matplotlib.pyplot as plt\n",
        "#Function to display an image\n",
        "def display_img(img):\n",
        "  plt.imshow(img, cmap=plt.cm.binary)\n",
        "  plt.show()\n",
        "  \n",
        "display_img(x_1)  "
      ],
      "execution_count": 24,
      "outputs": [
        {
          "output_type": "display_data",
          "data": {
            "image/png": "[encoded data removed]",
            "text/plain": [
              "<Figure size 432x288 with 1 Axes>"
            ]
          },
          "metadata": {
            "tags": []
          }
        }
      ]
    },
    {
      "cell_type": "code",
      "metadata": {
        "id": "_m7mPhumVHNc",
        "colab_type": "code",
        "colab": {
          "base_uri": "https://localhost:8080/",
          "height": 1000
        },
        "outputId": "c45cb28b-faf5-47b6-e94a-2829e2bf2406"
      },
      "source": [
        "x_2= x_train[10]\n",
        "print(x_2)\n",
        "display_img(x_2)"
      ],
      "execution_count": 25,
      "outputs": [
        {
          "output_type": "stream",
          "text": [
            "[[  0   0   0   0   0   0   0   0   0   0   0   0   0   0   0   0   0   0\n",
            "    0   0   0   0   0   0   0   0   0   0]\n",
            " [  0   0   0   0   0   0   0   0   0   0   0   0   0   0   0   0   0   0\n",
            "    0   0   0   0   0   0   0   0   0   0]\n",
            " [  0   0   0   0   0   0   0   0   0   0   0   0   0   0   0   0   0   0\n",
            "    0   0   0   0   0   0   0   0   0   0]\n",
            " [  0   0   0   0   0   0   0   0   0   0   0   0   0   0   0   0   0   0\n",
            "    0   0   0   0   0   0   0   0   0   0]\n",
            " [  0   0   0   0   0   0   0   0   0   0   0  42 118 219 166 118 118   6\n",
            "    0   0   0   0   0   0   0   0   0   0]\n",
            " [  0   0   0   0   0   0   0   0   0   0 103 242 254 254 254 254 254  66\n",
            "    0   0   0   0   0   0   0   0   0   0]\n",
            " [  0   0   0   0   0   0   0   0   0   0  18 232 254 254 254 254 254 238\n",
            "   70   0   0   0   0   0   0   0   0   0]\n",
            " [  0   0   0   0   0   0   0   0   0   0   0 104 244 254 224 254 254 254\n",
            "  141   0   0   0   0   0   0   0   0   0]\n",
            " [  0   0   0   0   0   0   0   0   0   0   0   0 207 254 210 254 254 254\n",
            "   34   0   0   0   0   0   0   0   0   0]\n",
            " [  0   0   0   0   0   0   0   0   0   0   0   0  84 206 254 254 254 254\n",
            "   41   0   0   0   0   0   0   0   0   0]\n",
            " [  0   0   0   0   0   0   0   0   0   0   0   0   0  24 209 254 254 254\n",
            "  171   0   0   0   0   0   0   0   0   0]\n",
            " [  0   0   0   0   0   0   0   0   0   0   0   0  91 137 253 254 254 254\n",
            "  112   0   0   0   0   0   0   0   0   0]\n",
            " [  0   0   0   0   0   0   0   0   0   0  40 214 250 254 254 254 254 254\n",
            "   34   0   0   0   0   0   0   0   0   0]\n",
            " [  0   0   0   0   0   0   0   0   0   0  81 247 254 254 254 254 254 254\n",
            "  146   0   0   0   0   0   0   0   0   0]\n",
            " [  0   0   0   0   0   0   0   0   0   0   0 110 246 254 254 254 254 254\n",
            "  171   0   0   0   0   0   0   0   0   0]\n",
            " [  0   0   0   0   0   0   0   0   0   0   0   0  73  89  89  93 240 254\n",
            "  171   0   0   0   0   0   0   0   0   0]\n",
            " [  0   0   0   0   0   0   0   0   0   0   0   0   0   0   0   1 128 254\n",
            "  219  31   0   0   0   0   0   0   0   0]\n",
            " [  0   0   0   0   0   0   0   0   0   0   0   0   0   0   0   7 254 254\n",
            "  214  28   0   0   0   0   0   0   0   0]\n",
            " [  0   0   0   0   0   0   0   0   0   0   0   0   0   0   0 138 254 254\n",
            "  116   0   0   0   0   0   0   0   0   0]\n",
            " [  0   0   0   0   0   0  19 177  90   0   0   0   0   0  25 240 254 254\n",
            "   34   0   0   0   0   0   0   0   0   0]\n",
            " [  0   0   0   0   0   0 164 254 215  63  36   0  51  89 206 254 254 139\n",
            "    8   0   0   0   0   0   0   0   0   0]\n",
            " [  0   0   0   0   0   0  57 197 254 254 222 180 241 254 254 253 213  11\n",
            "    0   0   0   0   0   0   0   0   0   0]\n",
            " [  0   0   0   0   0   0   0 140 105 254 254 254 254 254 254 236   0   0\n",
            "    0   0   0   0   0   0   0   0   0   0]\n",
            " [  0   0   0   0   0   0   0   0   7 117 117 165 254 254 239  50   0   0\n",
            "    0   0   0   0   0   0   0   0   0   0]\n",
            " [  0   0   0   0   0   0   0   0   0   0   0   0   0   0   0   0   0   0\n",
            "    0   0   0   0   0   0   0   0   0   0]\n",
            " [  0   0   0   0   0   0   0   0   0   0   0   0   0   0   0   0   0   0\n",
            "    0   0   0   0   0   0   0   0   0   0]\n",
            " [  0   0   0   0   0   0   0   0   0   0   0   0   0   0   0   0   0   0\n",
            "    0   0   0   0   0   0   0   0   0   0]\n",
            " [  0   0   0   0   0   0   0   0   0   0   0   0   0   0   0   0   0   0\n",
            "    0   0   0   0   0   0   0   0   0   0]]\n"
          ],
          "name": "stdout"
        },
        {
          "output_type": "display_data",
          "data": {
            "image/png": "[encoded data removed]",
            "text/plain": [
              "<Figure size 432x288 with 1 Axes>"
            ]
          },
          "metadata": {
            "tags": []
          }
        }
      ]
    },
    {
      "cell_type": "markdown",
      "metadata": {
        "id": "Tn9owpluVhhK",
        "colab_type": "text"
      },
      "source": [
        "\n",
        "# Select multiple data points\n",
        "\n",
        "\n",
        "\n",
        "1.   : is used to select the entire axis.\n",
        "2.   i:j is used to select i-th to j-th data points. Note that j-th point is not\n",
        "included\n",
        "\n"
      ]
    },
    {
      "cell_type": "code",
      "metadata": {
        "id": "gt2EtLgIWXGJ",
        "colab_type": "code",
        "colab": {
          "base_uri": "https://localhost:8080/",
          "height": 68
        },
        "outputId": "e9f4c591-d66b-4a02-c540-f1b27f0b5550"
      },
      "source": [
        "#select data point from 10 to 100 (100 is not included)\n",
        "x_train_slice = x_train[10:100]\n",
        "#print(x_train_slice)\n",
        "print(\"Number of axes in tensor = %d\" %x_train_slice.ndim)\n",
        "print(\"Shape of a tensor:\", x_train_slice.shape)\n",
        "print(\"Data type of tensor elements: %s\"%x_train_slice.dtype)"
      ],
      "execution_count": 26,
      "outputs": [
        {
          "output_type": "stream",
          "text": [
            "Number of axes in tensor = 3\n",
            "Shape of a tensor: (90, 28, 28)\n",
            "Data type of tensor elements: uint8\n"
          ],
          "name": "stdout"
        }
      ]
    },
    {
      "cell_type": "code",
      "metadata": {
        "id": "LnoqnrkfWz0S",
        "colab_type": "code",
        "colab": {
          "base_uri": "https://localhost:8080/",
          "height": 68
        },
        "outputId": "47270626-1f9f-40e3-eb24-6661cfa176ea"
      },
      "source": [
        "#Here we explicitely select the remaining two axes\n",
        "x_train_slice = x_train[10:100, :, :]\n",
        "#print(x_train_slice)\n",
        "print(\"Number of axes in tensor = %d\" %x_train_slice.ndim)\n",
        "print(\"Shape of a tensor:\", x_train_slice.shape)\n",
        "print(\"Data type of tensor elements: %s\"%x_train_slice.dtype)"
      ],
      "execution_count": 27,
      "outputs": [
        {
          "output_type": "stream",
          "text": [
            "Number of axes in tensor = 3\n",
            "Shape of a tensor: (90, 28, 28)\n",
            "Data type of tensor elements: uint8\n"
          ],
          "name": "stdout"
        }
      ]
    },
    {
      "cell_type": "code",
      "metadata": {
        "id": "josqoI3OXjG3",
        "colab_type": "code",
        "colab": {
          "base_uri": "https://localhost:8080/",
          "height": 68
        },
        "outputId": "d5a22764-8b24-403b-d8cf-319d2bb55aa5"
      },
      "source": [
        "#Here we explicitely select the remaining two axes by specifying the first and last elements.\n",
        "x_train_slice = x_train[10:100, 0:28, 0:28]\n",
        "#print(x_train_slice)\n",
        "print(\"Number of axes in tensor = %d\" %x_train_slice.ndim)\n",
        "print(\"Shape of a tensor:\", x_train_slice.shape)\n",
        "print(\"Data type of tensor elements: %s\"%x_train_slice.dtype)"
      ],
      "execution_count": 28,
      "outputs": [
        {
          "output_type": "stream",
          "text": [
            "Number of axes in tensor = 3\n",
            "Shape of a tensor: (90, 28, 28)\n",
            "Data type of tensor elements: uint8\n"
          ],
          "name": "stdout"
        }
      ]
    },
    {
      "cell_type": "code",
      "metadata": {
        "id": "y6bGkt7jXu34",
        "colab_type": "code",
        "colab": {
          "base_uri": "https://localhost:8080/",
          "height": 68
        },
        "outputId": "de9faa1b-66bd-44fc-9480-c46907cd0032"
      },
      "source": [
        "#write the codeto select bottom right patch of 14x14 from the trainng images?\n",
        "x_train_slice = x_train[:, 14:, 14:]\n",
        "#print(x_train_slice)\n",
        "print(\"Number of axes in tensor = %d\" %x_train_slice.ndim)\n",
        "print(\"Shape of a tensor:\", x_train_slice.shape)\n",
        "print(\"Data type of tensor elements: %s\"%x_train_slice.dtype)"
      ],
      "execution_count": 29,
      "outputs": [
        {
          "output_type": "stream",
          "text": [
            "Number of axes in tensor = 3\n",
            "Shape of a tensor: (60000, 14, 14)\n",
            "Data type of tensor elements: uint8\n"
          ],
          "name": "stdout"
        }
      ]
    },
    {
      "cell_type": "code",
      "metadata": {
        "id": "qYw5ygJB6cUV",
        "colab_type": "code",
        "colab": {
          "base_uri": "https://localhost:8080/",
          "height": 68
        },
        "outputId": "be27bc2f-d851-403b-850e-79a9a1681d01"
      },
      "source": [
        "#write the codeto select middle patch of 14x14 from the trainng images?\n",
        "x_train_slice = x_train[:, 7:21, 7:21]\n",
        "#print(x_train_slice)\n",
        "print(\"Number of axes in tensor = %d\" %x_train_slice.ndim)\n",
        "print(\"Shape of a tensor:\", x_train_slice.shape)\n",
        "print(\"Data type of tensor elements: %s\"%x_train_slice.dtype)"
      ],
      "execution_count": 31,
      "outputs": [
        {
          "output_type": "stream",
          "text": [
            "Number of axes in tensor = 3\n",
            "Shape of a tensor: (60000, 14, 14)\n",
            "Data type of tensor elements: uint8\n"
          ],
          "name": "stdout"
        }
      ]
    },
    {
      "cell_type": "code",
      "metadata": {
        "id": "FuVmQxVL7hmS",
        "colab_type": "code",
        "colab": {
          "base_uri": "https://localhost:8080/",
          "height": 68
        },
        "outputId": "3a66ae85-d860-4487-b7e4-c77f64dde705"
      },
      "source": [
        "#write the codeto select middle patch of 14x14 from the trainng images?\n",
        "x_train_slice = x_train[:, 7:-7, 7:-7]\n",
        "#print(x_train_slice)\n",
        "print(\"Number of axes in tensor = %d\" %x_train_slice.ndim)\n",
        "print(\"Shape of a tensor:\", x_train_slice.shape)\n",
        "print(\"Data type of tensor elements: %s\"%x_train_slice.dtype)"
      ],
      "execution_count": 32,
      "outputs": [
        {
          "output_type": "stream",
          "text": [
            "Number of axes in tensor = 3\n",
            "Shape of a tensor: (60000, 14, 14)\n",
            "Data type of tensor elements: uint8\n"
          ],
          "name": "stdout"
        }
      ]
    },
    {
      "cell_type": "markdown",
      "metadata": {
        "id": "SPD4rIHs8Ibo",
        "colab_type": "text"
      },
      "source": [
        "# Data Batches"
      ]
    },
    {
      "cell_type": "code",
      "metadata": {
        "id": "XVLHV9iY8ms7",
        "colab_type": "code",
        "colab": {
          "base_uri": "https://localhost:8080/",
          "height": 119
        },
        "outputId": "4e381532-ccc5-47ef-8927-6d9f521edfd4"
      },
      "source": [
        "#first batch-first 128 examples\n",
        "batch_1 = x_train[:128]\n",
        "print(\"Number of axes in tensor = %d\" %batch_1.ndim)\n",
        "print(\"Shape of a tensor:\", batch_1.shape)\n",
        "print(\"Data type of tensor elements: %s\"%batch_1.dtype)\n",
        "#second batch-next 128 examples\n",
        "batch_2 = x_train[128:256]\n",
        "print(\"Number of axes in tensor = %d\" %batch_2.ndim)\n",
        "print(\"Shape of a tensor:\", batch_2.shape)\n",
        "print(\"Data type of tensor elements: %s\"%batch_2.dtype)"
      ],
      "execution_count": 34,
      "outputs": [
        {
          "output_type": "stream",
          "text": [
            "Number of axes in tensor = 3\n",
            "Shape of a tensor: (128, 28, 28)\n",
            "Data type of tensor elements: uint8\n",
            "Number of axes in tensor = 3\n",
            "Shape of a tensor: (128, 28, 28)\n",
            "Data type of tensor elements: uint8\n"
          ],
          "name": "stdout"
        }
      ]
    },
    {
      "cell_type": "code",
      "metadata": {
        "id": "VfuzGHZv84GI",
        "colab_type": "code",
        "colab": {
          "base_uri": "https://localhost:8080/",
          "height": 85
        },
        "outputId": "d4133d59-82bf-4ccf-d0bb-d3e99e727b02"
      },
      "source": [
        "#write the code to get n-th batch\n",
        "#n-th batch-n-th 128 examples\n",
        "n = int(input(\"Enter the n-th batch:\"))\n",
        "batch_n = x_train[((128)*(n-1)):(128*n)]\n",
        "print(\"Number of axes in tensor = %d\" %batch_n.ndim)\n",
        "print(\"Shape of a tensor:\", batch_n.shape)\n",
        "print(\"Data type of tensor elements: %s\"%batch_n.dtype)"
      ],
      "execution_count": 39,
      "outputs": [
        {
          "output_type": "stream",
          "text": [
            "Enter the n-th batch:9\n",
            "Number of axes in tensor = 3\n",
            "Shape of a tensor: (128, 28, 28)\n",
            "Data type of tensor elements: uint8\n"
          ],
          "name": "stdout"
        }
      ]
    },
    {
      "cell_type": "markdown",
      "metadata": {
        "id": "WUwLQNeg-Y5N",
        "colab_type": "text"
      },
      "source": [
        "\n",
        "# **Real World examples of data tensors**\n",
        "\n",
        "   **tensor  example      Shape                                     datasets**\n",
        "\n",
        "1.   2D    Vector     (samples, features)                         Text documents\n",
        "2.   3D    Sequence   (samples, timesteps, features)              Stock Prices\n",
        "3.   4D    Images     (samples, channels, height, width)          MNIST Digits\n",
        "4.   5D    Videos     (samples, frames, channels, height, width)  Videos\n"
      ]
    },
    {
      "cell_type": "markdown",
      "metadata": {
        "id": "PFWkmevoBo4P",
        "colab_type": "text"
      },
      "source": [
        "#Deduce the shape of a tensor to store 4 videos,where each video is a 60-second clip of size 128x256 samples at 4 frames a second?\n",
        "Ans: 5D tensor"
      ]
    },
    {
      "cell_type": "markdown",
      "metadata": {
        "id": "Q0vcs3W2UIeM",
        "colab_type": "text"
      },
      "source": [
        "# Key Operation on Neural Network"
      ]
    },
    {
      "cell_type": "code",
      "metadata": {
        "id": "6hUK3hidU_OM",
        "colab_type": "code",
        "colab": {}
      },
      "source": [
        "import numpy as np"
      ],
      "execution_count": 0,
      "outputs": []
    },
    {
      "cell_type": "code",
      "metadata": {
        "id": "wI-nvTIWVDX7",
        "colab_type": "code",
        "colab": {
          "base_uri": "https://localhost:8080/",
          "height": 153
        },
        "outputId": "ef037dc5-143a-4438-aba8-af0b66f60778"
      },
      "source": [
        "w = np.array([[1, 0.5],[2, 1]])\n",
        "print(\"# of axes- w =%d\"%w.ndim)\n",
        "print(\"Shape input =\",input.shape)\n",
        "print()\n",
        "\n",
        "input = np.array([[1, 2],[-1, 2]])\n",
        "print(\"# of axes- input =%d\"%input.ndim)\n",
        "print(\"Shape input =\",input.shape)\n",
        "print()\n",
        "\n",
        "b = np.array([-2.0, 0.5])\n",
        "print(\"# of axes- b= %d\"%b.ndim)\n",
        "print(\"Shape of b=\",b.shape)"
      ],
      "execution_count": 44,
      "outputs": [
        {
          "output_type": "stream",
          "text": [
            "# of axes- w =2\n",
            "Shape input = (2, 2)\n",
            "\n",
            "# of axes- input =2\n",
            "Shape input = (2, 2)\n",
            "\n",
            "# of axes- b= 1\n",
            "Shape of b= (2,)\n"
          ],
          "name": "stdout"
        }
      ]
    },
    {
      "cell_type": "code",
      "metadata": {
        "id": "tvu3B_x5VzU8",
        "colab_type": "code",
        "colab": {
          "base_uri": "https://localhost:8080/",
          "height": 119
        },
        "outputId": "e0f250ec-ad18-4589-850e-0ec44ce3b536"
      },
      "source": [
        "z = np.dot(w, input) + b\n",
        "print(\"Shape of W:\", w.shape)\n",
        "print(\"Shape of input:\", input.shape)\n",
        "print(\"Shape of b:\", b.shape)\n",
        "print(\"Shape of z:\", z.shape)\n",
        "print(z)"
      ],
      "execution_count": 46,
      "outputs": [
        {
          "output_type": "stream",
          "text": [
            "Shape of W: (2, 2)\n",
            "Shape of input: (2, 2)\n",
            "Shape of b: (2,)\n",
            "Shape of z: (2, 2)\n",
            "[[-1.5  3.5]\n",
            " [-1.   6.5]]\n"
          ],
          "name": "stdout"
        }
      ]
    },
    {
      "cell_type": "markdown",
      "metadata": {
        "id": "4jEgRWWHZkvG",
        "colab_type": "text"
      },
      "source": [
        "let's apply non-linear activation-ReLu"
      ]
    },
    {
      "cell_type": "code",
      "metadata": {
        "id": "LVhmZf8_aIlW",
        "colab_type": "code",
        "colab": {
          "base_uri": "https://localhost:8080/",
          "height": 68
        },
        "outputId": "2f9a4055-e9ca-4777-e000-25ba63be0dd6"
      },
      "source": [
        "output= np.maximum(0, z) # Element-wise ReLu\n",
        "print(\"Shape of output =\", output.shape)\n",
        "print(output)"
      ],
      "execution_count": 51,
      "outputs": [
        {
          "output_type": "stream",
          "text": [
            "Shape of output = (2, 2)\n",
            "[[0.  3.5]\n",
            " [0.  6.5]]\n"
          ],
          "name": "stdout"
        }
      ]
    },
    {
      "cell_type": "markdown",
      "metadata": {
        "id": "Ei3Z8RPSaYcy",
        "colab_type": "text"
      },
      "source": [
        "Visualize of relu function"
      ]
    },
    {
      "cell_type": "code",
      "metadata": {
        "id": "S7sCRJKhbZqM",
        "colab_type": "code",
        "colab": {
          "base_uri": "https://localhost:8080/",
          "height": 300
        },
        "outputId": "00cf8cb3-6f52-4cf0-f4aa-e99a1deca066"
      },
      "source": [
        "import matplotlib.pyplot as plt\n",
        "\n",
        "x = np.linspace(-10, 10, 100)\n",
        "z = np.maximum(0, x)\n",
        "plt.plot(x, z)\n",
        "plt.xlabel(\"x\")\n",
        "plt.ylabel(\"relu(x)\")"
      ],
      "execution_count": 57,
      "outputs": [
        {
          "output_type": "execute_result",
          "data": {
            "text/plain": [
              "Text(0, 0.5, 'relu(x)')"
            ]
          },
          "metadata": {
            "tags": []
          },
          "execution_count": 57
        },
        {
          "output_type": "display_data",
          "data": {
            "image/png": "[encoded data removed]",
            "text/plain": [
              "<Figure size 432x288 with 1 Axes>"
            ]
          },
          "metadata": {
            "tags": []
          }
        }
      ]
    },
    {
      "cell_type": "code",
      "metadata": {
        "id": "ucpXmDMUb1b5",
        "colab_type": "code",
        "colab": {
          "base_uri": "https://localhost:8080/",
          "height": 300
        },
        "outputId": "aeb16789-09d3-4c3c-bdb6-b1178c7ca864"
      },
      "source": [
        "#sigmoid function visualization\n",
        "import math\n",
        "x =np.linspace(-10,10,100)\n",
        "z = 1/(np.exp(-x)+1)\n",
        "plt.plot(x, z)\n",
        "plt.xlabel(\"x\")\n",
        "plt.ylabel(\"sigmoid(x)\")\n"
      ],
      "execution_count": 59,
      "outputs": [
        {
          "output_type": "execute_result",
          "data": {
            "text/plain": [
              "Text(0, 0.5, 'sigmoid(x)')"
            ]
          },
          "metadata": {
            "tags": []
          },
          "execution_count": 59
        },
        {
          "output_type": "display_data",
          "data": {
            "image/png": "[encoded data removed]",
            "text/plain": [
              "<Figure size 432x288 with 1 Axes>"
            ]
          },
          "metadata": {
            "tags": []
          }
        }
      ]
    },
    {
      "cell_type": "code",
      "metadata": {
        "id": "qXtLqpbtfVYT",
        "colab_type": "code",
        "colab": {
          "base_uri": "https://localhost:8080/",
          "height": 51
        },
        "outputId": "0a697c1e-17c7-4cfe-92fa-8320bc0af266"
      },
      "source": [
        "x_1 = np.random.rand(32,10)\n",
        "x_2 = np.random.rand(10,)\n",
        "print(\"Shape of x_1\",x_1.shape)\n",
        "print(\"Shape of x_2\",x_2.shape)\n"
      ],
      "execution_count": 65,
      "outputs": [
        {
          "output_type": "stream",
          "text": [
            "Shape of x_1 (32, 10)\n",
            "Shape of x_2 (10,)\n"
          ],
          "name": "stdout"
        }
      ]
    },
    {
      "cell_type": "code",
      "metadata": {
        "id": "ofXUXHq_hisZ",
        "colab_type": "code",
        "colab": {
          "base_uri": "https://localhost:8080/",
          "height": 51
        },
        "outputId": "328bcfdc-2a2a-41c0-b0b6-acb855746c11"
      },
      "source": [
        "#Broadcasting\n",
        "#1. Add an axis to match ndims of the larger tensor\n",
        "x_2 = np.expand_dims(x_2, axis=0)\n",
        "print(\"Shape of x_2\",x_2.shape)\n",
        "x_2 = np.repeat(x_2, 32, axis=0)\n",
        "print(\"after broadcasting ,Shape of x_2\",x_2.shape)"
      ],
      "execution_count": 66,
      "outputs": [
        {
          "output_type": "stream",
          "text": [
            "Shape of x_2 (1, 10)\n",
            "after broadcasting ,Shape of x_2 (32, 10)\n"
          ],
          "name": "stdout"
        }
      ]
    },
    {
      "cell_type": "code",
      "metadata": {
        "id": "_4iXcs9ih4X-",
        "colab_type": "code",
        "colab": {
          "base_uri": "https://localhost:8080/",
          "height": 34
        },
        "outputId": "a6566dc4-b17c-4ba9-ead2-c65caf5771fd"
      },
      "source": [
        "#numpy implements broadcasting\n",
        "x_1 = np.random.rand(32, 10)\n",
        "x_2 = np.random.rand(10,)\n",
        "print((x_1 +x_2).shape)"
      ],
      "execution_count": 68,
      "outputs": [
        {
          "output_type": "stream",
          "text": [
            "(32, 10)\n"
          ],
          "name": "stdout"
        }
      ]
    },
    {
      "cell_type": "code",
      "metadata": {
        "id": "t900UgExiunz",
        "colab_type": "code",
        "colab": {
          "base_uri": "https://localhost:8080/",
          "height": 306
        },
        "outputId": "d9eb3cba-b9df-4397-df97-223d0fadbe8b"
      },
      "source": [
        "#reshaping\n",
        "\n",
        "x = np.array([[0,1],\n",
        "            [2,3],\n",
        "              [4,5]])\n",
        "print(\"x =\", x)\n",
        "\n",
        "print(\"shape of x:\",x.shape)\n",
        "print(x)\n",
        "x =x.reshape(6,1)\n",
        "print(\"shape of x:\",x.shape)\n",
        "print(x)\n",
        "x=x.reshape(2,3)\n",
        "print(\"shape of x:\",x.shape)\n",
        "print(x)"
      ],
      "execution_count": 73,
      "outputs": [
        {
          "output_type": "stream",
          "text": [
            "x = [[0 1]\n",
            " [2 3]\n",
            " [4 5]]\n",
            "shape of x: (3, 2)\n",
            "[[0 1]\n",
            " [2 3]\n",
            " [4 5]]\n",
            "shape of x: (6, 1)\n",
            "[[0]\n",
            " [1]\n",
            " [2]\n",
            " [3]\n",
            " [4]\n",
            " [5]]\n",
            "shape of x: (2, 3)\n",
            "[[0 1 2]\n",
            " [3 4 5]]\n"
          ],
          "name": "stdout"
        }
      ]
    },
    {
      "cell_type": "code",
      "metadata": {
        "id": "GSrIxNmtjiQx",
        "colab_type": "code",
        "colab": {
          "base_uri": "https://localhost:8080/",
          "height": 34
        },
        "outputId": "438ce6ed-706d-4cf7-9faf-81e43f9e4187"
      },
      "source": [
        "#Transpose of the Matrix\n",
        "x = np.zeros((300,200))\n",
        "w = np.transpose(x)\n",
        "print(w.shape)"
      ],
      "execution_count": 75,
      "outputs": [
        {
          "output_type": "stream",
          "text": [
            "(200, 300)\n"
          ],
          "name": "stdout"
        }
      ]
    },
    {
      "cell_type": "code",
      "metadata": {
        "id": "CazkVAuqj9h4",
        "colab_type": "code",
        "colab": {}
      },
      "source": [
        ""
      ],
      "execution_count": 0,
      "outputs": []
    }
  ]
}